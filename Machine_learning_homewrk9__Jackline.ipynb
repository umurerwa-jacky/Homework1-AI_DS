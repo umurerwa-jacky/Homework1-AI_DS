{
  "cells": [
    {
      "cell_type": "markdown",
      "metadata": {
        "id": "view-in-github",
        "colab_type": "text"
      },
      "source": [
        "<a href=\"https://colab.research.google.com/github/umurerwa-jacky/Homework1-AI_DS/blob/main/Machine_learning_homewrk9__Jackline.ipynb\" target=\"_parent\"><img src=\"https://colab.research.google.com/assets/colab-badge.svg\" alt=\"Open In Colab\"/></a>"
      ]
    },
    {
      "cell_type": "markdown",
      "id": "c66d6f7f",
      "metadata": {
        "id": "c66d6f7f"
      },
      "source": [
        "Task 1: Data Exploration/ understanding"
      ]
    },
    {
      "cell_type": "code",
      "execution_count": null,
      "id": "9406439f",
      "metadata": {
        "id": "9406439f",
        "outputId": "c4ba9431-f397-4653-d17b-b1d8a4c6f29d"
      },
      "outputs": [
        {
          "data": {
            "text/html": [
              "<div>\n",
              "<style scoped>\n",
              "    .dataframe tbody tr th:only-of-type {\n",
              "        vertical-align: middle;\n",
              "    }\n",
              "\n",
              "    .dataframe tbody tr th {\n",
              "        vertical-align: top;\n",
              "    }\n",
              "\n",
              "    .dataframe thead th {\n",
              "        text-align: right;\n",
              "    }\n",
              "</style>\n",
              "<table border=\"1\" class=\"dataframe\">\n",
              "  <thead>\n",
              "    <tr style=\"text-align: right;\">\n",
              "      <th></th>\n",
              "      <th>show_id</th>\n",
              "      <th>type</th>\n",
              "      <th>title</th>\n",
              "      <th>director</th>\n",
              "      <th>cast</th>\n",
              "      <th>country</th>\n",
              "      <th>date_added</th>\n",
              "      <th>release_year</th>\n",
              "      <th>rating</th>\n",
              "      <th>duration</th>\n",
              "      <th>listed_in</th>\n",
              "      <th>description</th>\n",
              "    </tr>\n",
              "  </thead>\n",
              "  <tbody>\n",
              "    <tr>\n",
              "      <th>0</th>\n",
              "      <td>s1</td>\n",
              "      <td>Movie</td>\n",
              "      <td>Dick Johnson Is Dead</td>\n",
              "      <td>Kirsten Johnson</td>\n",
              "      <td>NaN</td>\n",
              "      <td>United States</td>\n",
              "      <td>25-Sep-21</td>\n",
              "      <td>2020</td>\n",
              "      <td>PG-13</td>\n",
              "      <td>90 min</td>\n",
              "      <td>Documentaries</td>\n",
              "      <td>As her father nears the end of his life, filmm...</td>\n",
              "    </tr>\n",
              "    <tr>\n",
              "      <th>1</th>\n",
              "      <td>s2</td>\n",
              "      <td>TV Show</td>\n",
              "      <td>Blood &amp; Water</td>\n",
              "      <td>NaN</td>\n",
              "      <td>Ama Qamata, Khosi Ngema, Gail Mabalane, Thaban...</td>\n",
              "      <td>South Africa</td>\n",
              "      <td>24-Sep-21</td>\n",
              "      <td>2021</td>\n",
              "      <td>TV-MA</td>\n",
              "      <td>2 Seasons</td>\n",
              "      <td>International TV Shows, TV Dramas, TV Mysteries</td>\n",
              "      <td>After crossing paths at a party, a Cape Town t...</td>\n",
              "    </tr>\n",
              "    <tr>\n",
              "      <th>2</th>\n",
              "      <td>s3</td>\n",
              "      <td>TV Show</td>\n",
              "      <td>Ganglands</td>\n",
              "      <td>Julien Leclercq</td>\n",
              "      <td>Sami Bouajila, Tracy Gotoas, Samuel Jouy, Nabi...</td>\n",
              "      <td>NaN</td>\n",
              "      <td>24-Sep-21</td>\n",
              "      <td>2021</td>\n",
              "      <td>TV-MA</td>\n",
              "      <td>1 Season</td>\n",
              "      <td>Crime TV Shows, International TV Shows, TV Act...</td>\n",
              "      <td>To protect his family from a powerful drug lor...</td>\n",
              "    </tr>\n",
              "    <tr>\n",
              "      <th>3</th>\n",
              "      <td>s4</td>\n",
              "      <td>TV Show</td>\n",
              "      <td>Jailbirds New Orleans</td>\n",
              "      <td>NaN</td>\n",
              "      <td>NaN</td>\n",
              "      <td>NaN</td>\n",
              "      <td>24-Sep-21</td>\n",
              "      <td>2021</td>\n",
              "      <td>TV-MA</td>\n",
              "      <td>1 Season</td>\n",
              "      <td>Docuseries, Reality TV</td>\n",
              "      <td>Feuds, flirtations and toilet talk go down amo...</td>\n",
              "    </tr>\n",
              "    <tr>\n",
              "      <th>4</th>\n",
              "      <td>s5</td>\n",
              "      <td>TV Show</td>\n",
              "      <td>Kota Factory</td>\n",
              "      <td>NaN</td>\n",
              "      <td>Mayur More, Jitendra Kumar, Ranjan Raj, Alam K...</td>\n",
              "      <td>India</td>\n",
              "      <td>24-Sep-21</td>\n",
              "      <td>2021</td>\n",
              "      <td>TV-MA</td>\n",
              "      <td>2 Seasons</td>\n",
              "      <td>International TV Shows, Romantic TV Shows, TV ...</td>\n",
              "      <td>In a city of coaching centers known to train I...</td>\n",
              "    </tr>\n",
              "  </tbody>\n",
              "</table>\n",
              "</div>"
            ],
            "text/plain": [
              "  show_id     type                  title         director  \\\n",
              "0      s1    Movie   Dick Johnson Is Dead  Kirsten Johnson   \n",
              "1      s2  TV Show          Blood & Water              NaN   \n",
              "2      s3  TV Show              Ganglands  Julien Leclercq   \n",
              "3      s4  TV Show  Jailbirds New Orleans              NaN   \n",
              "4      s5  TV Show           Kota Factory              NaN   \n",
              "\n",
              "                                                cast        country  \\\n",
              "0                                                NaN  United States   \n",
              "1  Ama Qamata, Khosi Ngema, Gail Mabalane, Thaban...   South Africa   \n",
              "2  Sami Bouajila, Tracy Gotoas, Samuel Jouy, Nabi...            NaN   \n",
              "3                                                NaN            NaN   \n",
              "4  Mayur More, Jitendra Kumar, Ranjan Raj, Alam K...          India   \n",
              "\n",
              "  date_added  release_year rating   duration  \\\n",
              "0  25-Sep-21          2020  PG-13     90 min   \n",
              "1  24-Sep-21          2021  TV-MA  2 Seasons   \n",
              "2  24-Sep-21          2021  TV-MA   1 Season   \n",
              "3  24-Sep-21          2021  TV-MA   1 Season   \n",
              "4  24-Sep-21          2021  TV-MA  2 Seasons   \n",
              "\n",
              "                                           listed_in  \\\n",
              "0                                      Documentaries   \n",
              "1    International TV Shows, TV Dramas, TV Mysteries   \n",
              "2  Crime TV Shows, International TV Shows, TV Act...   \n",
              "3                             Docuseries, Reality TV   \n",
              "4  International TV Shows, Romantic TV Shows, TV ...   \n",
              "\n",
              "                                         description  \n",
              "0  As her father nears the end of his life, filmm...  \n",
              "1  After crossing paths at a party, a Cape Town t...  \n",
              "2  To protect his family from a powerful drug lor...  \n",
              "3  Feuds, flirtations and toilet talk go down amo...  \n",
              "4  In a city of coaching centers known to train I...  "
            ]
          },
          "execution_count": 38,
          "metadata": {},
          "output_type": "execute_result"
        }
      ],
      "source": [
        "import pandas as pd\n",
        "import matplotlib.pyplot as plt\n",
        "import seaborn as sns\n",
        "from sklearn.model_selection import train_test_split\n",
        "from sklearn.preprocessing import MultiLabelBinarizer\n",
        "from sklearn.ensemble import RandomForestClassifier\n",
        "from sklearn.metrics import classification_report\n",
        "from sklearn.model_selection import GridSearchCV\n",
        "import joblib\n",
        "# reading the file with  encoding and loading the data\n",
        "# Load the dataset\n",
        "df = pd.read_csv(\"C:\\\\Users\\\\Test_user\\\\OneDrive\\\\Desktop\\\\netflix_titles.csv\", encoding='ISO-8859-1')\n",
        "df.head()"
      ]
    },
    {
      "cell_type": "code",
      "execution_count": null,
      "id": "f70a9fb3",
      "metadata": {
        "id": "f70a9fb3",
        "outputId": "653ea4e9-b6b3-494a-fd8e-68a06c9cc939"
      },
      "outputs": [
        {
          "data": {
            "text/plain": [
              "0                                           Documentaries\n",
              "1         International TV Shows, TV Dramas, TV Mysteries\n",
              "2       Crime TV Shows, International TV Shows, TV Act...\n",
              "3                                  Docuseries, Reality TV\n",
              "4       International TV Shows, Romantic TV Shows, TV ...\n",
              "                              ...                        \n",
              "8804                              Comedies, Horror Movies\n",
              "8805                   Children & Family Movies, Comedies\n",
              "8806       Dramas, International Movies, Music & Musicals\n",
              "8807                               Sci-fi, Horror, Action\n",
              "8808                             Drama, Romance, Thriller\n",
              "Name: listed_in, Length: 8809, dtype: object"
            ]
          },
          "execution_count": 40,
          "metadata": {},
          "output_type": "execute_result"
        }
      ],
      "source": [
        "df[\"listed_in\"]"
      ]
    },
    {
      "cell_type": "code",
      "execution_count": null,
      "id": "83a7e7a5",
      "metadata": {
        "id": "83a7e7a5",
        "outputId": "5226e024-b3c4-408d-e68a-6965dd4a1b4e"
      },
      "outputs": [
        {
          "name": "stdout",
          "output_type": "stream",
          "text": [
            "<class 'pandas.core.frame.DataFrame'>\n",
            "RangeIndex: 8809 entries, 0 to 8808\n",
            "Data columns (total 12 columns):\n",
            " #   Column        Non-Null Count  Dtype \n",
            "---  ------        --------------  ----- \n",
            " 0   show_id       8809 non-null   object\n",
            " 1   type          8809 non-null   object\n",
            " 2   title         8809 non-null   object\n",
            " 3   director      6175 non-null   object\n",
            " 4   cast          7984 non-null   object\n",
            " 5   country       7978 non-null   object\n",
            " 6   date_added    8799 non-null   object\n",
            " 7   release_year  8809 non-null   int64 \n",
            " 8   rating        8805 non-null   object\n",
            " 9   duration      8806 non-null   object\n",
            " 10  listed_in     8809 non-null   object\n",
            " 11  description   8809 non-null   object\n",
            "dtypes: int64(1), object(11)\n",
            "memory usage: 826.0+ KB\n"
          ]
        }
      ],
      "source": [
        "# Get basic information\n",
        "df.info()\n"
      ]
    },
    {
      "cell_type": "markdown",
      "id": "cb022c72",
      "metadata": {
        "id": "cb022c72"
      },
      "source": [
        "# 2.Investigate the Data:\n",
        "# Missing Values:"
      ]
    },
    {
      "cell_type": "code",
      "execution_count": null,
      "id": "fbf39cb8",
      "metadata": {
        "id": "fbf39cb8",
        "outputId": "0e1ef239-99c9-4dfc-d5c4-caa4081ac3d2"
      },
      "outputs": [
        {
          "name": "stdout",
          "output_type": "stream",
          "text": [
            "show_id            0\n",
            "type               0\n",
            "title              0\n",
            "director        2634\n",
            "cast             825\n",
            "country          831\n",
            "date_added        10\n",
            "release_year       0\n",
            "rating             4\n",
            "duration           3\n",
            "listed_in          0\n",
            "description        0\n",
            "dtype: int64\n"
          ]
        }
      ],
      "source": [
        "print(df.isnull().sum())"
      ]
    },
    {
      "cell_type": "markdown",
      "id": "7bf98fd5",
      "metadata": {
        "id": "7bf98fd5"
      },
      "source": [
        "# Data Cleaning"
      ]
    },
    {
      "cell_type": "code",
      "execution_count": null,
      "id": "9c907e4e",
      "metadata": {
        "id": "9c907e4e",
        "outputId": "d1c8133d-0bb2-49a2-dcef-b82c9a283462"
      },
      "outputs": [
        {
          "name": "stdout",
          "output_type": "stream",
          "text": [
            "show_id         object\n",
            "type            object\n",
            "title           object\n",
            "director        object\n",
            "cast            object\n",
            "country         object\n",
            "date_added      object\n",
            "release_year     int64\n",
            "rating          object\n",
            "duration        object\n",
            "listed_in       object\n",
            "description     object\n",
            "dtype: object\n"
          ]
        }
      ],
      "source": [
        "df_type = df.dtypes\n",
        "print(df_type)"
      ]
    },
    {
      "cell_type": "code",
      "execution_count": null,
      "id": "0d5d1aac",
      "metadata": {
        "id": "0d5d1aac",
        "outputId": "d3fd4ced-5103-47c3-b817-a508f994f04a"
      },
      "outputs": [
        {
          "name": "stdout",
          "output_type": "stream",
          "text": [
            "0   2021-09-25\n",
            "1   2021-09-24\n",
            "2   2021-09-24\n",
            "3   2021-09-24\n",
            "4   2021-09-24\n",
            "Name: date_added, dtype: datetime64[ns]\n",
            "<class 'pandas.core.frame.DataFrame'>\n",
            "RangeIndex: 8809 entries, 0 to 8808\n",
            "Data columns (total 12 columns):\n",
            " #   Column        Non-Null Count  Dtype         \n",
            "---  ------        --------------  -----         \n",
            " 0   show_id       8809 non-null   object        \n",
            " 1   type          8809 non-null   object        \n",
            " 2   title         8809 non-null   object        \n",
            " 3   director      6175 non-null   object        \n",
            " 4   cast          7984 non-null   object        \n",
            " 5   country       7978 non-null   object        \n",
            " 6   date_added    8799 non-null   datetime64[ns]\n",
            " 7   release_year  8809 non-null   int64         \n",
            " 8   rating        8805 non-null   object        \n",
            " 9   duration      8806 non-null   object        \n",
            " 10  listed_in     8809 non-null   object        \n",
            " 11  description   8809 non-null   object        \n",
            "dtypes: datetime64[ns](1), int64(1), object(10)\n",
            "memory usage: 826.0+ KB\n",
            "None\n"
          ]
        }
      ],
      "source": [
        "# Convert the 'date_added' column to string type to handle non-string values\n",
        "df['date_added'] = df['date_added'].astype(str)\n",
        "\n",
        "# Strip leading and trailing whitespace from 'date_added' column\n",
        "df['date_added'] = df['date_added'].str.strip()\n",
        "\n",
        "# Convert 'date_added' to datetime format\n",
        "df['date_added'] = pd.to_datetime(df['date_added'], errors='coerce')\n",
        "\n",
        "# Display the first few rows to confirm changes\n",
        "print(df['date_added'].head())\n",
        "print(df.info())\n",
        "\n"
      ]
    },
    {
      "cell_type": "markdown",
      "id": "9509d7c2",
      "metadata": {
        "id": "9509d7c2"
      },
      "source": [
        "# Descriptive Statistics:"
      ]
    },
    {
      "cell_type": "code",
      "execution_count": null,
      "id": "5451073c",
      "metadata": {
        "id": "5451073c",
        "outputId": "a823e896-b667-4e6b-83fe-223dcfd97b5c"
      },
      "outputs": [
        {
          "name": "stdout",
          "output_type": "stream",
          "text": [
            "                          date_added  release_year\n",
            "count                           8799   8809.000000\n",
            "mean   2019-05-17 15:43:18.431640064   2014.181292\n",
            "min              2008-01-01 00:00:00   1925.000000\n",
            "25%              2018-04-06 00:00:00   2013.000000\n",
            "50%              2019-07-02 00:00:00   2017.000000\n",
            "75%              2020-08-19 12:00:00   2019.000000\n",
            "max              2024-04-05 00:00:00   2024.000000\n",
            "std                              NaN      8.818932\n"
          ]
        }
      ],
      "source": [
        "descriptive_stats = df.describe()\n",
        "print(descriptive_stats)"
      ]
    },
    {
      "cell_type": "code",
      "execution_count": null,
      "id": "711349cc",
      "metadata": {
        "id": "711349cc"
      },
      "outputs": [],
      "source": [
        "#Categorical Data Analysis:\n"
      ]
    },
    {
      "cell_type": "code",
      "execution_count": null,
      "id": "31907664",
      "metadata": {
        "id": "31907664",
        "outputId": "6f7ec8d2-53ce-4eda-c97a-42968f338da6"
      },
      "outputs": [
        {
          "name": "stdout",
          "output_type": "stream",
          "text": [
            "Index(['show_id', 'type', 'title', 'director', 'cast', 'country', 'rating',\n",
            "       'duration', 'listed_in', 'description'],\n",
            "      dtype='object')\n",
            "type\n",
            "Movie      6132\n",
            "TV Show    2677\n",
            "Name: count, dtype: int64\n"
          ]
        }
      ],
      "source": [
        "# Identify categorical columns\n",
        "categorical_columns = df.select_dtypes(include=['object']).columns\n",
        "print(categorical_columns)\n",
        "\n",
        "# Analyze distribution of categories\n",
        "type_distribution = df['type'].value_counts()\n",
        "print(type_distribution)\n"
      ]
    },
    {
      "cell_type": "code",
      "execution_count": null,
      "id": "3ea8f430",
      "metadata": {
        "scrolled": false,
        "id": "3ea8f430",
        "outputId": "d96a62fc-0b0d-4b9e-d21a-c5ee94f6d00e"
      },
      "outputs": [
        {
          "data": {
            "image/png": "[encoded data removed]",
            "text/plain": [
              "<Figure size 640x480 with 1 Axes>"
            ]
          },
          "metadata": {},
          "output_type": "display_data"
        }
      ],
      "source": [
        "# Bar chart for 'type' distribution\n",
        "type_distribution.plot(kind='bar', color='blue')\n",
        "plt.xlabel('Type')\n",
        "plt.ylabel('Count')\n",
        "plt.title('Distribution of Content Types')\n",
        "plt.show()"
      ]
    },
    {
      "cell_type": "code",
      "execution_count": null,
      "id": "514bb1a7",
      "metadata": {
        "id": "514bb1a7"
      },
      "outputs": [],
      "source": [
        "# Data cleaning:"
      ]
    },
    {
      "cell_type": "code",
      "execution_count": null,
      "id": "fde5e476",
      "metadata": {
        "id": "fde5e476",
        "outputId": "d27928f1-d4a5-4745-8517-6d36beba0669"
      },
      "outputs": [
        {
          "name": "stdout",
          "output_type": "stream",
          "text": [
            "show_id         0\n",
            "type            0\n",
            "title           0\n",
            "director        0\n",
            "cast            0\n",
            "country         0\n",
            "date_added      0\n",
            "release_year    0\n",
            "rating          0\n",
            "duration        0\n",
            "listed_in       0\n",
            "description     0\n",
            "dtype: int64\n"
          ]
        }
      ],
      "source": [
        "# Handling missing values\n",
        "df['director'].fillna('Unknown', inplace=True)\n",
        "df['cast'].fillna('Unknown', inplace=True)\n",
        "df['country'].fillna('Unknown', inplace=True)\n",
        "df['date_added'].fillna(df['date_added'].mode()[0], inplace=True)\n",
        "# Drop rows where 'rating' and 'duration' columns have NaNs\n",
        "df.dropna(subset=['rating', 'duration'], inplace=True)\n",
        "df.isnull().sum()\n",
        "# Verify there are no more missing values\n",
        "print(df.isnull().sum())"
      ]
    },
    {
      "cell_type": "code",
      "execution_count": null,
      "id": "a2916a2c",
      "metadata": {
        "id": "a2916a2c",
        "outputId": "90a1eb08-7f9c-47d4-b08b-45223af76958"
      },
      "outputs": [
        {
          "name": "stdout",
          "output_type": "stream",
          "text": [
            "<class 'pandas.core.frame.DataFrame'>\n",
            "Index: 8802 entries, 0 to 8808\n",
            "Data columns (total 12 columns):\n",
            " #   Column        Non-Null Count  Dtype         \n",
            "---  ------        --------------  -----         \n",
            " 0   show_id       8802 non-null   object        \n",
            " 1   type          8802 non-null   object        \n",
            " 2   title         8802 non-null   object        \n",
            " 3   director      8802 non-null   object        \n",
            " 4   cast          8802 non-null   object        \n",
            " 5   country       8802 non-null   object        \n",
            " 6   date_added    8802 non-null   datetime64[ns]\n",
            " 7   release_year  8802 non-null   int64         \n",
            " 8   rating        8802 non-null   object        \n",
            " 9   duration      8802 non-null   object        \n",
            " 10  listed_in     8802 non-null   object        \n",
            " 11  description   8802 non-null   object        \n",
            "dtypes: datetime64[ns](1), int64(1), object(10)\n",
            "memory usage: 894.0+ KB\n"
          ]
        }
      ],
      "source": [
        "df.info()"
      ]
    },
    {
      "cell_type": "code",
      "execution_count": null,
      "id": "79cecb7a",
      "metadata": {
        "id": "79cecb7a",
        "outputId": "c0bd9c67-3c26-4b00-8e84-d97e444d6336"
      },
      "outputs": [
        {
          "data": {
            "text/plain": [
              "rating\n",
              "TV-MA       3208\n",
              "TV-14       2160\n",
              "TV-PG        863\n",
              "R            799\n",
              "PG-13        490\n",
              "TV-Y7        334\n",
              "TV-Y         307\n",
              "PG           287\n",
              "TV-G         220\n",
              "NR            80\n",
              "G             41\n",
              "TV-Y7-FV       6\n",
              "NC-17          3\n",
              "UR             3\n",
              "A              1\n",
              "Name: count, dtype: int64"
            ]
          },
          "execution_count": 55,
          "metadata": {},
          "output_type": "execute_result"
        }
      ],
      "source": [
        "df[\"rating\"].value_counts()"
      ]
    },
    {
      "cell_type": "code",
      "execution_count": null,
      "id": "3003b6e6",
      "metadata": {
        "id": "3003b6e6",
        "outputId": "8d8a9dbd-98e2-4349-c600-1e6742d2aa99"
      },
      "outputs": [
        {
          "data": {
            "text/plain": [
              "rating\n",
              "TV-MA       3208\n",
              "TV-14       2160\n",
              "TV-PG        863\n",
              "R            799\n",
              "PG-13        490\n",
              "TV-Y7        334\n",
              "TV-Y         307\n",
              "PG           287\n",
              "TV-G         220\n",
              "NR            80\n",
              "G             41\n",
              "TV-Y7-FV       6\n",
              "NC-17          3\n",
              "UR             3\n",
              "A              1\n",
              "Name: count, dtype: int64"
            ]
          },
          "execution_count": 57,
          "metadata": {},
          "output_type": "execute_result"
        }
      ],
      "source": [
        "df[\"rating\"].value_counts()"
      ]
    },
    {
      "cell_type": "code",
      "execution_count": null,
      "id": "c12fe8de",
      "metadata": {
        "id": "c12fe8de",
        "outputId": "51e271cc-e3a9-42db-b7a9-9662ac2f1ee1"
      },
      "outputs": [
        {
          "name": "stdout",
          "output_type": "stream",
          "text": [
            "\n",
            "Average Rating by Type:\n",
            "type\n",
            "Movie      3.970622\n",
            "TV Show    4.010841\n",
            "Name: rating_num, dtype: float64\n"
          ]
        },
        {
          "data": {
            "image/png": "[encoded data removed]",
            "text/plain": [
              "<Figure size 800x600 with 1 Axes>"
            ]
          },
          "metadata": {},
          "output_type": "display_data"
        }
      ],
      "source": [
        "rating_mapping = {\n",
        "    'TV-G': 0,\n",
        "    'NR': 0,\n",
        "    'UR': 0,\n",
        "    'TV-Y': 0,\n",
        "    'G': 0,\n",
        "    'PG': 1,\n",
        "    'TV-PG': 1,\n",
        "     'PG-13': 2,\n",
        "    'TV-Y7': 3,\n",
        "    'TV-Y7-FV': 3,\n",
        "     'TV-14': 4,\n",
        "    'R': 5,\n",
        "    'TV-MA': 6,\n",
        "    'A': 6,\n",
        "    'NC-17': 6\n",
        "}\n",
        "\n",
        "df['rating_num'] = df['rating'].map(rating_mapping)\n",
        "\n",
        "# Handle any unmapped ratings (shouldn't be necessary if all ratings are covered)\n",
        "df['rating_num'].fillna(0, inplace=True)\n",
        "\n",
        "# Calculate the average rating for each type\n",
        "average_rating = df.groupby('type')['rating_num'].mean()\n",
        "print(\"\\nAverage Rating by Type:\")\n",
        "print(average_rating)\n",
        "\n",
        "# Create a bar chart to compare average ratings\n",
        "average_rating.plot(kind='bar', color=['skyblue', 'salmon'], figsize=(8, 6))\n",
        "plt.title('Average Rating by Content Type')\n",
        "plt.xlabel('Content Type')\n",
        "plt.ylabel('Average Rating')\n",
        "plt.xticks(rotation=0)\n",
        "plt.show()"
      ]
    },
    {
      "cell_type": "code",
      "execution_count": null,
      "id": "5a31678b",
      "metadata": {
        "id": "5a31678b",
        "outputId": "22cd2c0b-5e39-4f56-eb4d-10f8b37b5911"
      },
      "outputs": [
        {
          "name": "stdout",
          "output_type": "stream",
          "text": [
            "8034                         Skydancers\n",
            "1021                        Peepli Live\n",
            "5776         Riphagen - The Untouchable\n",
            "1466       The Minimalists: Less Is Now\n",
            "1677                    My Amnesia Girl\n",
            "3859                   All In My Family\n",
            "1442         Korean Pork Belly Rhapsody\n",
            "5080                     Pyar Ke Do Pal\n",
            "1895                H2O: Just Add Water\n",
            "938     Motu Patlu in the Game of Zones\n",
            "Name: title, dtype: object\n"
          ]
        }
      ],
      "source": [
        "#Print Random number from the title\n",
        "print(df.title.sample(10))"
      ]
    },
    {
      "cell_type": "code",
      "execution_count": null,
      "id": "8ad2db4d",
      "metadata": {
        "id": "8ad2db4d"
      },
      "outputs": [],
      "source": [
        " # Task 2 :Data Visualization\n",
        "1. Release Year Distribution\n",
        "Visualize the distribution of the \"release_year\" column"
      ]
    },
    {
      "cell_type": "code",
      "execution_count": null,
      "id": "dd904ea4",
      "metadata": {
        "scrolled": true,
        "id": "dd904ea4",
        "outputId": "33aad703-a7f1-43bf-b68d-a4a36feead04"
      },
      "outputs": [
        {
          "data": {
            "image/png": "[encoded data removed]",
            "text/plain": [
              "<Figure size 640x480 with 1 Axes>"
            ]
          },
          "metadata": {},
          "output_type": "display_data"
        }
      ],
      "source": [
        "# Histogram for release year distribution\n",
        "df['release_year'].plot(kind='hist', bins=30, color=\"green\")\n",
        "plt.title('Distribution of Release Year')\n",
        "plt.xlabel('Release Year')\n",
        "plt.ylabel('Count')\n",
        "plt.show()"
      ]
    },
    {
      "cell_type": "code",
      "execution_count": null,
      "id": "8264db9f",
      "metadata": {
        "id": "8264db9f"
      },
      "outputs": [],
      "source": [
        "#Rating by Type Calculate the average rating for \"Movie\" and \"TV Show\" categories."
      ]
    },
    {
      "cell_type": "code",
      "execution_count": null,
      "id": "8097ca8f",
      "metadata": {
        "id": "8097ca8f",
        "outputId": "45b75996-01c8-4ecb-cb23-878c1483f6a0"
      },
      "outputs": [
        {
          "data": {
            "image/png": "[encoded data removed]",
            "text/plain": [
              "<Figure size 1000x700 with 1 Axes>"
            ]
          },
          "metadata": {},
          "output_type": "display_data"
        }
      ],
      "source": [
        "# Rating by Type\n",
        "rating_by_type = df.groupby(['type', 'rating']).size().unstack(fill_value=0)\n",
        "\n",
        "# Plotting\n",
        "rating_by_type.plot(kind='bar', stacked=True, figsize=(10, 7))\n",
        "plt.title('Distribution of Ratings by Type')\n",
        "plt.xlabel('Type')\n",
        "plt.ylabel('Count')\n",
        "plt.show()"
      ]
    },
    {
      "cell_type": "code",
      "execution_count": null,
      "id": "4218bc04",
      "metadata": {
        "id": "4218bc04"
      },
      "outputs": [],
      "source": [
        "# Task 3: Building a Simple Recommendation Model\n",
        "1. Identify Features\n",
        "Choose features for the recommendation model."
      ]
    },
    {
      "cell_type": "code",
      "execution_count": null,
      "id": "dbc0fd75",
      "metadata": {
        "id": "dbc0fd75",
        "outputId": "c9e9f880-accf-4c9f-f616-8600681f1ed9"
      },
      "outputs": [
        {
          "data": {
            "text/plain": [
              "Index(['show_id', 'type', 'title', 'director', 'cast', 'country', 'date_added',\n",
              "       'release_year', 'rating', 'duration', 'listed_in', 'description',\n",
              "       'rating_num'],\n",
              "      dtype='object')"
            ]
          },
          "execution_count": 60,
          "metadata": {},
          "output_type": "execute_result"
        }
      ],
      "source": [
        "df.columns"
      ]
    },
    {
      "cell_type": "code",
      "execution_count": null,
      "id": "b4f68d09",
      "metadata": {
        "id": "b4f68d09",
        "outputId": "a00f986c-8bad-42d8-ee40-162e42cc126a"
      },
      "outputs": [
        {
          "data": {
            "text/plain": [
              "show_id         0\n",
              "type            0\n",
              "title           0\n",
              "director        0\n",
              "cast            0\n",
              "country         0\n",
              "date_added      0\n",
              "release_year    0\n",
              "rating          0\n",
              "duration        0\n",
              "listed_in       0\n",
              "description     0\n",
              "rating_num      0\n",
              "dtype: int64"
            ]
          },
          "execution_count": 61,
          "metadata": {},
          "output_type": "execute_result"
        }
      ],
      "source": [
        "df.isnull().sum()"
      ]
    },
    {
      "cell_type": "code",
      "execution_count": null,
      "id": "684e0776",
      "metadata": {
        "id": "684e0776",
        "outputId": "7ecff72b-15fd-468f-e8e4-f7617b4245a7"
      },
      "outputs": [
        {
          "name": "stdout",
          "output_type": "stream",
          "text": [
            "    duration  duration_min\n",
            "0     90 min          90.0\n",
            "1  2 Seasons           2.0\n",
            "2   1 Season           1.0\n",
            "3   1 Season           1.0\n",
            "4  2 Seasons           2.0\n",
            "Column 'type' is present in the DataFrame.\n",
            "Column 'title' is present in the DataFrame.\n",
            "Column 'release_year' is present in the DataFrame.\n",
            "Column 'duration_min' is present in the DataFrame.\n",
            "Column 'listed_in' is present in the DataFrame.\n",
            "Column 'rating_num' is present in the DataFrame.\n",
            "              precision    recall  f1-score   support\n",
            "\n",
            "           0       0.49      0.42      0.45       118\n",
            "           1       0.55      0.29      0.38       235\n",
            "           2       0.54      0.33      0.41        96\n",
            "           3       0.53      0.36      0.43        69\n",
            "           4       0.48      0.41      0.44       437\n",
            "           5       0.53      0.45      0.49       152\n",
            "           6       0.55      0.78      0.65       654\n",
            "\n",
            "    accuracy                           0.53      1761\n",
            "   macro avg       0.53      0.44      0.47      1761\n",
            "weighted avg       0.53      0.53      0.51      1761\n",
            "\n"
          ]
        }
      ],
      "source": [
        "# Check if 'duration' column exists\n",
        "if 'duration' in df.columns:\n",
        "    # Extract numeric values from 'duration' and convert to float\n",
        "    df['duration_min'] = df['duration'].str.extract('(\\d+)').astype(float)\n",
        "\n",
        "    # Optionally, handle different formats (e.g., converting seasons to minutes if needed)\n",
        "    # For simplicity, we'll assume 'duration_min' is correctly extracted as minutes.\n",
        "    # You may need more sophisticated handling if 'duration' includes seasons.\n",
        "else:\n",
        "    print(\"The 'duration' column does not exist in the DataFrame.\")\n",
        "\n",
        "# Verify that the 'duration_min' column has been created and contains valid values\n",
        "print(df[['duration', 'duration_min']].head())\n",
        "\n",
        "# Ensure all necessary columns are present before selecting features\n",
        "required_columns = ['type', 'title', 'release_year', 'duration_min', 'listed_in', 'rating_num']\n",
        "for column in required_columns:\n",
        "    if column not in df.columns:\n",
        "        print(f\"Column '{column}' is missing from the DataFrame.\")\n",
        "    else:\n",
        "        print(f\"Column '{column}' is present in the DataFrame.\")\n",
        "\n",
        "# Select features and target variable\n",
        "features = ['type', 'title', 'release_year', 'duration_min', 'listed_in']\n",
        "target = 'rating_num'\n",
        "\n",
        "# Proceed only if all columns are available\n",
        "if all(column in df.columns for column in features + [target]):\n",
        "    X = df[features]\n",
        "    y = df[target]\n",
        "\n",
        "    # Preprocessing for categorical features using OneHotEncoder\n",
        "    from sklearn.preprocessing import OneHotEncoder\n",
        "    from sklearn.compose import ColumnTransformer\n",
        "    from sklearn.pipeline import Pipeline\n",
        "    from sklearn.impute import SimpleImputer\n",
        "\n",
        "    # Define preprocessing for numeric and categorical features\n",
        "    numeric_features = ['release_year', 'duration_min']\n",
        "    categorical_features = ['type', 'title', 'listed_in']\n",
        "\n",
        "    numeric_transformer = Pipeline(steps=[\n",
        "        ('imputer', SimpleImputer(strategy='median'))\n",
        "    ])\n",
        "\n",
        "    categorical_transformer = Pipeline(steps=[\n",
        "        ('imputer', SimpleImputer(strategy='constant', fill_value='missing')),\n",
        "        ('onehot', OneHotEncoder(handle_unknown='ignore'))\n",
        "    ])\n",
        "\n",
        "    preprocessor = ColumnTransformer(\n",
        "        transformers=[\n",
        "            ('num', numeric_transformer, numeric_features),\n",
        "            ('cat', categorical_transformer, categorical_features)\n",
        "        ])\n",
        "\n",
        "    # Append classifier to preprocessing pipeline\n",
        "    from sklearn.ensemble import RandomForestClassifier\n",
        "\n",
        "    model = Pipeline(steps=[\n",
        "        ('preprocessor', preprocessor),\n",
        "        ('classifier', RandomForestClassifier(random_state=42))\n",
        "    ])\n",
        "\n",
        "    # Split data into training and test sets\n",
        "    from sklearn.model_selection import train_test_split\n",
        "\n",
        "    X_train, X_test, y_train, y_test = train_test_split(X, y, test_size=0.2, random_state=42)\n",
        "\n",
        "    # Train the model\n",
        "    model.fit(X_train, y_train)\n",
        "\n",
        "    # Evaluate the model\n",
        "    from sklearn.metrics import classification_report\n",
        "\n",
        "    y_pred = model.predict(X_test)\n",
        "    print(classification_report(y_test, y_pred))\n",
        "else:\n",
        "    print(\"Ensure all required columns are present in the DataFrame before proceeding.\")\n"
      ]
    }
  ],
  "metadata": {
    "kernelspec": {
      "display_name": "Python 3 (ipykernel)",
      "language": "python",
      "name": "python3"
    },
    "language_info": {
      "codemirror_mode": {
        "name": "ipython",
        "version": 3
      },
      "file_extension": ".py",
      "mimetype": "text/x-python",
      "name": "python",
      "nbconvert_exporter": "python",
      "pygments_lexer": "ipython3",
      "version": "3.11.5"
    },
    "colab": {
      "provenance": [],
      "include_colab_link": true
    }
  },
  "nbformat": 4,
  "nbformat_minor": 5
}