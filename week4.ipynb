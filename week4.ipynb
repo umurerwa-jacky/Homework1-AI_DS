{
  "nbformat": 4,
  "nbformat_minor": 0,
  "metadata": {
    "colab": {
      "provenance": [],
      "authorship_tag": "ABX9TyPlzs7mWFewzxoFONmP9Usy",
      "include_colab_link": true
    },
    "kernelspec": {
      "name": "python3",
      "display_name": "Python 3"
    },
    "language_info": {
      "name": "python"
    }
  },
  "cells": [
    {
      "cell_type": "markdown",
      "metadata": {
        "id": "view-in-github",
        "colab_type": "text"
      },
      "source": [
        "<a href=\"https://colab.research.google.com/github/umurerwa-jacky/Homework1-AI_DS/blob/main/week4.ipynb\" target=\"_parent\"><img src=\"https://colab.research.google.com/assets/colab-badge.svg\" alt=\"Open In Colab\"/></a>"
      ]
    },
    {
      "cell_type": "code",
      "execution_count": null,
      "metadata": {
        "id": "kbq6cL5FlZ6S"
      },
      "outputs": [],
      "source": []
    },
    {
      "cell_type": "code",
      "source": [
        "class Person:\n",
        "    def __init__(self, name, age):\n",
        "        self.name = name\n",
        "        self.age = age\n",
        "        self.friends = []\n",
        "\n",
        "    def getName(self):\n",
        "        return self.name\n",
        "\n",
        "    def getAge(self):\n",
        "        return self.age\n",
        "\n",
        "    def getFriends(self):\n",
        "        return self.friends\n",
        "\n",
        "    def getFriendsNames(self):\n",
        "        return sorted([friend.getName() for friend in self.friends])\n",
        "\n",
        "    def addFriend(self, person):\n",
        "        if person not in self.friends:\n",
        "            self.friends.append(person)\n",
        "            person.addFriend(self)\n",
        "\n",
        "    def addFriends(self, people):\n",
        "        for person in people:\n",
        "            self.addFriend(person)\n",
        "\n",
        "    def testPersonClass(self):\n",
        "        print('Testing Person Class...', end='')\n",
        "        fred = Person('fred', 32)\n",
        "        assert(isinstance(fred, Person))\n",
        "        assert(fred.getName() == 'fred')\n",
        "        assert(fred.getAge() == 32)\n",
        "        assert(fred.getFriends() == [])\n",
        "        assert(fred.getFriendsNames() == [])\n",
        "\n",
        "        wilma = Person('wilma', 35)\n",
        "        assert(wilma.getName() == 'wilma')\n",
        "        assert(wilma.getAge() == 35)\n",
        "        assert(wilma.getFriends() == [])\n",
        "\n",
        "        wilma.addFriend(fred)\n",
        "        assert(wilma.getFriends() == [fred])\n",
        "        assert(wilma.getFriendsNames() == ['fred'])\n",
        "        assert(fred.getFriends() == [wilma])\n",
        "\n",
        "        wilma.addFriend(fred)\n",
        "        assert(wilma.getFriends() == [fred])\n",
        "\n",
        "        betty = Person('betty', 29)\n",
        "        fred.addFriend(betty)\n",
        "        assert(fred.getFriendsNames() == ['betty', 'wilma'])\n",
        "\n",
        "        pebbles = Person('pebbles', 4)\n",
        "        betty.addFriend(pebbles)\n",
        "        assert(betty.getFriendsNames() == ['fred', 'pebbles'])\n",
        "\n",
        "        barney = Person('barney', 28)\n",
        "        barney.addFriend(pebbles)\n",
        "        barney.addFriend(betty)\n",
        "        barney.addFriends(fred.getFriends())\n",
        "        assert(barney.getFriends() == [pebbles, betty, wilma])\n",
        "        assert(barney.getFriendsNames() == ['betty', 'pebbles', 'wilma'])\n",
        "\n",
        "        fred.addFriend(wilma)\n",
        "        fred.addFriend(barney)\n",
        "        assert(fred.getFriends() == [wilma, betty, barney])\n",
        "        assert(fred.getFriendsNames() == ['barney', 'betty', 'wilma'])\n",
        "        assert(barney.getFriends() == [pebbles, betty, wilma, fred])\n",
        "        assert(barney.getFriendsNames() == ['betty', 'fred', 'pebbles', 'wilma'])\n",
        "        print('Passed!')\n",
        "\n",
        "# Now let's create an instance of the Person class and call the testPersonClass method\n",
        "person = Person('', 0)\n",
        "person.testPersonClass()\n",
        "\n",
        "# Find triplet question\n",
        "\n",
        "def findTriplets(L):\n",
        "    triplets = set()\n",
        "    n = len(L)\n",
        "\n",
        "    # Convert list to set for faster lookup\n",
        "    L_set = set(L)\n",
        "\n",
        "    for i in range(n):\n",
        "        for j in range(i+1, n):\n",
        "            # Calculate the third number needed to make sum zero\n",
        "            third_number = -(L[i] + L[j])\n",
        "\n",
        "            # Check if third number exists in the set and is not the same as i and j\n",
        "            if third_number in L_set and third_number != L[i] and third_number != L[j]:\n",
        "                # Add the triplet to the set\n",
        "                triplet = tuple(sorted([L[i], L[j], third_number]))\n",
        "                triplets.add(triplet)\n",
        "\n",
        "    return triplets\n",
        "\n",
        "def movieAwards(oscarResults):\n",
        "    awards_count = {}\n",
        "    for category, movie in oscarResults:\n",
        "        awards_count[movie] = awards_count.get(movie, 0) + 1\n",
        "    return awards_count\n",
        "\n",
        "# Test case\n",
        "oscarResults = {\n",
        "    (\"Best Picture\", \"Green Book\"),\n",
        "    (\"Best Actor\", \"Bohemian Rhapsody\"),\n",
        "    (\"Best Actress\", \"The Favourite\"),\n",
        "    (\"Film Editing\", \"Bohemian Rhapsody\"),\n",
        "    (\"Best Original Score\", \"Black Panther\"),\n",
        "    (\"Costume Design\", \"Black Panther\"),\n",
        "    (\"Sound Editing\", \"Bohemian Rhapsody\"),\n",
        "    (\"Best Director\", \"Roma\")\n",
        "}\n",
        "\n",
        "print(movieAwards(oscarResults))\n",
        "\n",
        "def friendsOfFriends(d):\n",
        "    friends_of_friends = {}\n",
        "    for person, friends in d.items():\n",
        "        fofs = set()\n",
        "        for friend in friends:\n",
        "            fofs.update(d.get(friend, set()))\n",
        "        fofs -= friends\n",
        "        fofs -= {person}\n",
        "        friends_of_friends[person] = fofs\n",
        "    return friends_of_friends\n",
        "\n",
        "# Test case\n",
        "d = {\n",
        "    \"jon\": set([\"arya\", \"tyrion\"]),\n",
        "    \"tyrion\": set([\"jon\", \"jaime\", \"pod\"]),\n",
        "    \"arya\": set([\"jon\"]),\n",
        "    \"jaime\": set([\"tyrion\", \"brienne\"]),\n",
        "    \"brienne\": set([\"jaime\", \"pod\"]),\n",
        "    \"pod\": set([\"tyrion\", \"brienne\", \"jaime\"]),\n",
        "    \"ramsay\": set()\n",
        "}\n",
        "\n",
        "print(friendsOfFriends(d))\n",
        "\n"
      ],
      "metadata": {
        "colab": {
          "base_uri": "https://localhost:8080/"
        },
        "id": "onr1VBXCliZc",
        "outputId": "0823d4c0-10d8-4ca5-c49e-5835ccfe24ed"
      },
      "execution_count": 1,
      "outputs": [
        {
          "output_type": "stream",
          "name": "stdout",
          "text": [
            "Testing Person Class...Passed!\n",
            "{'Roma': 1, 'Black Panther': 2, 'Green Book': 1, 'Bohemian Rhapsody': 3, 'The Favourite': 1}\n",
            "{'jon': {'jaime', 'pod'}, 'tyrion': {'brienne', 'arya'}, 'arya': {'tyrion'}, 'jaime': {'jon', 'pod'}, 'brienne': {'tyrion'}, 'pod': {'jon'}, 'ramsay': set()}\n"
          ]
        }
      ]
    },
    {
      "cell_type": "code",
      "source": [
        "# Contains pythagorean\n",
        "\n",
        "def containsPythagoreanTriple(L):\n",
        "    squared_set = set(num ** 2 for num in L)\n",
        "    for i in range(len(L)):\n",
        "        for j in range(i + 1, len(L)):\n",
        "            if L[i] ** 2 + L[j] ** 2 in squared_set:\n",
        "                return True\n",
        "    return False\n",
        "\n",
        "# Test cases\n",
        "print(containsPythagoreanTriple([1, 3, 6, 2, 5, 1, 4]))  # True\n",
        "print(containsPythagoreanTriple([1, 3, 6, 2, 1, 4]))     # False\n"
      ],
      "metadata": {
        "colab": {
          "base_uri": "https://localhost:8080/"
        },
        "id": "ztEQuHTebl4H",
        "outputId": "6cc872c8-eafd-46a8-8f48-d4c81a7cb105"
      },
      "execution_count": 5,
      "outputs": [
        {
          "output_type": "stream",
          "name": "stdout",
          "text": [
            "True\n",
            "False\n"
          ]
        }
      ]
    }
  ]
}