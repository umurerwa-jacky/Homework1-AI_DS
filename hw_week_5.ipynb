{
  "cells": [
    {
      "cell_type": "markdown",
      "metadata": {
        "id": "view-in-github",
        "colab_type": "text"
      },
      "source": [
        "<a href=\"https://colab.research.google.com/github/umurerwa-jacky/Homework1-AI_DS/blob/main/hw_week_5.ipynb\" target=\"_parent\"><img src=\"https://colab.research.google.com/assets/colab-badge.svg\" alt=\"Open In Colab\"/></a>"
      ]
    },
    {
      "cell_type": "markdown",
      "id": "fda20a78",
      "metadata": {
        "id": "fda20a78"
      },
      "source": [
        "# Extra-practise-week9 Question2(countFiles(path))"
      ]
    },
    {
      "cell_type": "code",
      "execution_count": null,
      "id": "bff704c7",
      "metadata": {
        "id": "bff704c7",
        "outputId": "aa1ce0fd-4a8c-446c-813c-1a570364f340"
      },
      "outputs": [
        {
          "name": "stdout",
          "output_type": "stream",
          "text": [
            "passed\n"
          ]
        }
      ],
      "source": [
        "# my solution to question 2 below\n",
        "import os\n",
        "\n",
        "def countFiles(path):\n",
        "     # Check if the path exists and is a directory\n",
        "    if not os.path.exists(path) or not os.path.isdir(path):\n",
        "\n",
        "        return 0\n",
        "\n",
        "    # Initialize the count\n",
        "    file_count = 0\n",
        "\n",
        "    # Iterate over all items in the folder\n",
        "    for item in os.listdir(path):\n",
        "        item_path = os.path.join(path, item)\n",
        "        if os.path.isfile(item_path):\n",
        "            # If it's a file, increment the count\n",
        "            file_count += 1\n",
        "        elif os.path.isdir(item_path):\n",
        "            # If it's a subfolder, recursively count files in the subfolder\n",
        "            file_count += countfiles(item_path)\n",
        "        else:\n",
        "            file_count = item_path\n",
        "\n",
        "\n",
        "    return file_count\n",
        "\n",
        "assert(countFiles(\"sampleFiles/folderB/folderF/folderG\") == 0)\n",
        "assert(countFiles(\"sampleFiles/folderB/folderF\") == 0)\n",
        "print(\"passed\")"
      ]
    },
    {
      "cell_type": "markdown",
      "id": "fad54f33",
      "metadata": {
        "id": "fad54f33"
      },
      "source": [
        "# Extra-practise-week9 Question7(findRTP(digits))"
      ]
    },
    {
      "cell_type": "code",
      "execution_count": null,
      "id": "d3a2ff61",
      "metadata": {
        "id": "d3a2ff61",
        "outputId": "3e294d7c-9fb3-4aa9-c7b6-71c803d42f40"
      },
      "outputs": [
        {
          "name": "stdout",
          "output_type": "stream",
          "text": [
            "233993\n",
            "Smallest RTP with 8 digits: 23399339\n"
          ]
        }
      ],
      "source": [
        "# my solution to question 7 below\n",
        "def isPrime(n):\n",
        "    if n < 2:\n",
        "        return False\n",
        "    for i in range(2, int(n**0.5) + 1):\n",
        "        if n % i == 0:\n",
        "            return False\n",
        "    return True\n",
        "\n",
        "def findRTP(digits):\n",
        "\n",
        "    def backtrack(number):\n",
        "        if len(str(number)) == digits:\n",
        "            if isPrime(number):\n",
        "                return number\n",
        "            return None\n",
        "\n",
        "        for digit in range(1, 10):\n",
        "            new_number = number * 10 + digit\n",
        "            if isPrime(new_number):\n",
        "                result = backtrack(new_number)\n",
        "                if result is not None:\n",
        "                    return result\n",
        "\n",
        "    # Start with single-digit primes\n",
        "    for digit in range(2, 10):\n",
        "        result = backtrack(digit)\n",
        "        if result is not None:\n",
        "            return result\n",
        "\n",
        "    return None\n",
        "\n",
        "# Example usage\n",
        "print(findRTP(6))\n",
        "print(f\"Smallest RTP with 8 digits: {findRTP(8)}\")\n"
      ]
    },
    {
      "cell_type": "markdown",
      "id": "cc8b69c4",
      "metadata": {
        "id": "cc8b69c4"
      },
      "source": [
        "# Extra-practise-week9 Question8(pegSolitaire)"
      ]
    },
    {
      "cell_type": "code",
      "execution_count": null,
      "id": "db446635",
      "metadata": {
        "id": "db446635",
        "outputId": "9c8a16c5-6c63-4fb8-8d44-0ef075f3c2fc"
      },
      "outputs": [
        {
          "name": "stdout",
          "output_type": "stream",
          "text": [
            "Board 10:\n",
            "No solution found within the time limit.\n",
            "[]\n",
            "\n",
            "Board 14:\n",
            "Solution found in 0.1786 seconds.\n",
            "[(1, 0, 1, 2), (1, 2, 3, 2), (2, 4, 4, 4), (2, 5, 4, 5), (3, 1, 3, 3), (4, 2, 4, 0), (3, 0, 5, 0), (4, 4, 4, 2), (4, 6, 4, 4), (5, 0, 5, 2), (5, 2, 3, 2), (3, 2, 3, 4), (4, 4, 2, 4)]\n",
            "\n",
            "Board 16:\n",
            "Solution found in 10.5737 seconds.\n",
            "[(1, 0, 1, 2), (2, 2, 2, 4), (3, 3, 3, 1), (3, 6, 3, 4), (2, 4, 4, 4), (4, 1, 4, 3), (4, 4, 4, 2), (4, 6, 4, 4), (5, 0, 3, 0), (3, 0, 3, 2), (6, 1, 4, 1), (4, 1, 4, 3), (4, 4, 4, 2), (4, 2, 2, 2), (1, 2, 3, 2)]\n",
            "\n",
            "Board 32:\n"
          ]
        }
      ],
      "source": [
        "# my solution to question 8 below\n",
        "import time\n",
        "\n",
        "# Peg Solitaire solver using backtracking\n",
        "def solvePegSolitaire(board):\n",
        "    def is_valid_move(board, r, c, dr, dc):\n",
        "        if 0 <= r + 2*dr < len(board) and 0 <= c + 2*dc < len(board[0]):\n",
        "            return board[r][c] == 'O' and board[r+dr][c+dc] == 'O' and board[r+2*dr][c+2*dc] == '.'\n",
        "        return False\n",
        "\n",
        "    def make_move(board, r, c, dr, dc):\n",
        "        new_board = [list(row) for row in board]\n",
        "        new_board[r][c] = '.'\n",
        "        new_board[r+dr][c+dc] = '.'\n",
        "        new_board[r+2*dr][c+2*dc] = 'O'\n",
        "        return new_board\n",
        "\n",
        "    def count_pegs(board):\n",
        "        return sum(row.count('O') for row in board)\n",
        "\n",
        "    def backtracking(board, moves, visited):\n",
        "        if count_pegs(board) == 1:\n",
        "            return True, moves\n",
        "        for r in range(len(board)):\n",
        "            for c in range(len(board[0])):\n",
        "                if board[r][c] == 'O':\n",
        "                    for dr, dc in [(0, 1), (0, -1), (1, 0), (-1, 0)]:\n",
        "                        if is_valid_move(board, r, c, dr, dc):\n",
        "                            new_board = make_move(board, r, c, dr, dc)\n",
        "                            if tuple(map(tuple, new_board)) not in visited:\n",
        "                                visited.add(tuple(map(tuple, new_board)))\n",
        "                                moves.append((r, c, r+2*dr, c+2*dc))\n",
        "                                found, solution = backtracking(new_board, moves, visited)\n",
        "                                if found:\n",
        "                                    return True, solution\n",
        "                                moves.pop()\n",
        "                                visited.remove(tuple(map(tuple, new_board)))\n",
        "        return False, []\n",
        "\n",
        "    # Parse the board string\n",
        "    board = [list(row.strip()) for row in board.strip().split('\\n')]\n",
        "    # Ensure all rows have the same length\n",
        "    max_length = max(len(row) for row in board)\n",
        "    for row in board:\n",
        "        row.extend([' '] * (max_length - len(row)))\n",
        "    start_time = time.time()\n",
        "    found, solution = backtracking(board, [], set())\n",
        "    end_time = time.time()\n",
        "    if found:\n",
        "        print(\"Solution found in {:.4f} seconds.\".format(end_time - start_time))\n",
        "        return solution\n",
        "    else:\n",
        "        print(\"No solution found within the time limit.\")\n",
        "        return []\n",
        "\n",
        "# Test the solver with the provided boards\n",
        "board10 = \"\"\"\\\n",
        "  ...\n",
        "  .O.\n",
        "..OO.O.\n",
        ".O...O.\n",
        "..O.O..\n",
        "  O.O\n",
        "  ...\n",
        "\"\"\"\n",
        "board14 = \"\"\"\\\n",
        "  ...\n",
        "  OO.\n",
        "..O.OO.\n",
        "OO..OO.\n",
        ".OOO..O\n",
        "  .O.\n",
        "  ...\n",
        "\"\"\"\n",
        "board16 = \"\"\"\\\n",
        "  ...\n",
        "  OO.\n",
        "..OO...\n",
        "..OO.OO\n",
        "OOO..OO\n",
        "  OO.\n",
        "  .O.\n",
        "\"\"\"\n",
        "board32 = \"\"\"\\\n",
        "  OOO\n",
        "  OOO\n",
        "OOOOOOO\n",
        "OOO.OOO\n",
        "OOOOOOO\n",
        "  OOO\n",
        "  OOO\n",
        "\"\"\"\n",
        "\n",
        "print(\"Board 10:\")\n",
        "print(solvePegSolitaire(board10))\n",
        "\n",
        "print(\"\\nBoard 14:\")\n",
        "print(solvePegSolitaire(board14))\n",
        "\n",
        "print(\"\\nBoard 16:\")\n",
        "print(solvePegSolitaire(board16))\n",
        "\n",
        "print(\"\\nBoard 32:\")\n",
        "print(solvePegSolitaire(board32))\n"
      ]
    },
    {
      "cell_type": "markdown",
      "id": "b2e9d3a4",
      "metadata": {
        "id": "b2e9d3a4"
      },
      "source": [
        "# Hw-9- Part A-Question-1( oddCount(L))"
      ]
    },
    {
      "cell_type": "code",
      "execution_count": null,
      "id": "33364031",
      "metadata": {
        "id": "33364031",
        "outputId": "8fbf4608-0804-4d42-9a7b-b066868638da"
      },
      "outputs": [
        {
          "name": "stdout",
          "output_type": "stream",
          "text": [
            "3\n",
            "0\n",
            "0\n",
            "5\n"
          ]
        }
      ],
      "source": [
        "# my solution to question 1 below\n",
        "def oddCount(L):\n",
        "    if L == []:\n",
        "        return 0\n",
        "    else:\n",
        "        if L[0] % 2 != 0:\n",
        "            count = 1\n",
        "        else:\n",
        "            count = 0\n",
        "        return count + oddCount(L[1:])\n",
        "\n",
        "# Test cases\n",
        "print(oddCount([1, 2, 3, 4, 5]))  # Output: 3 (1, 3, 5 are odd)\n",
        "print(oddCount([2, 4, 6, 8, 10]))  # Output: 0 (no odd numbers)\n",
        "print(oddCount([]))  # Output: 0 (empty list)\n",
        "print(oddCount([1, 3, 5, 7, 9]))  # Output: 5 (all numbers are odd)\n"
      ]
    },
    {
      "cell_type": "markdown",
      "id": "eb4d67de",
      "metadata": {
        "id": "eb4d67de"
      },
      "source": [
        "# Hw-9-Part A-Question-2(oddSum(L) )"
      ]
    },
    {
      "cell_type": "code",
      "execution_count": null,
      "id": "b5a1b135",
      "metadata": {
        "id": "b5a1b135",
        "outputId": "1fb5bc6c-8136-4fd3-c14c-aebb4e59c35c"
      },
      "outputs": [
        {
          "name": "stdout",
          "output_type": "stream",
          "text": [
            "9\n",
            "0\n",
            "0\n",
            "25\n"
          ]
        }
      ],
      "source": [
        "# my solution to question below\n",
        "def oddSum(L):\n",
        "    if (L==[]):\n",
        "        return 0\n",
        "    else:\n",
        "        if (L[0]%2 !=0):\n",
        "            return L[0]+ oddSum(L[1:])\n",
        "        else:\n",
        "            return oddSum(L[1:])\n",
        "\n",
        "\n",
        "# to test the result\n",
        "print(oddSum([1, 2, 3, 4, 5]))\n",
        "print(oddSum([2, 4, 6, 8, 10]))\n",
        "print(oddSum([]))\n",
        "print(oddSum([1, 3, 5, 7, 9]))\n",
        "\n",
        ""
      ]
    },
    {
      "cell_type": "markdown",
      "id": "feffbf09",
      "metadata": {
        "id": "feffbf09"
      },
      "source": [
        "# Hw-9- Part-A-Question-3(Recursion-Only oddsOnly(L))"
      ]
    },
    {
      "cell_type": "code",
      "execution_count": null,
      "id": "d102e765",
      "metadata": {
        "id": "d102e765",
        "outputId": "25cea118-1ed1-4266-f878-a09ca4529eaf"
      },
      "outputs": [
        {
          "name": "stdout",
          "output_type": "stream",
          "text": [
            "[1, 3, 5]\n",
            "[]\n",
            "[]\n",
            "[1, 3, 5, 7, 9]\n"
          ]
        }
      ],
      "source": [
        "# my solution to question 3 below\n",
        "\n",
        "def oddOnly(L):\n",
        "    if L==[]:\n",
        "        return []\n",
        "    else:\n",
        "        if (L[0] % 2 != 0):\n",
        "            return [L[0]] + oddOnly(L[1:])\n",
        "        else:\n",
        "            return oddOnly(L[1:])\n",
        "\n",
        "\n",
        "# to test the result\n",
        "print(oddOnly([1, 2, 3, 4, 5]))\n",
        "print(oddOnly([2, 4, 6, 8, 10]))\n",
        "print(oddOnly([]))\n",
        "print(oddOnly([1, 3, 5, 7, 9]))"
      ]
    },
    {
      "cell_type": "markdown",
      "id": "cca9310d",
      "metadata": {
        "id": "cca9310d"
      },
      "source": [
        "# Hw-9- Part A-Question-4(Recursion-Only maxOdd(L))"
      ]
    },
    {
      "cell_type": "code",
      "execution_count": null,
      "id": "46ad15f1",
      "metadata": {
        "id": "46ad15f1",
        "outputId": "99078401-6e09-4b81-bc2c-331c90e86d3c"
      },
      "outputs": [
        {
          "name": "stdout",
          "output_type": "stream",
          "text": [
            "5\n",
            "None\n",
            "None\n",
            "7\n"
          ]
        }
      ],
      "source": [
        "# my solution to question 4 below\n",
        "\n",
        "def maxOdd(L):\n",
        "    if L==[]:  # Base case: empty list\n",
        "        return None\n",
        "    else:\n",
        "        # Check if the first element of L is odd\n",
        "        if L[0] % 2 != 0:\n",
        "            # If odd, recursively find the max odd integer in the rest of the list\n",
        "            rest_max = maxOdd(L[1:])\n",
        "            if rest_max is None or L[0] > rest_max:\n",
        "                return L[0]\n",
        "            else:\n",
        "                return rest_max\n",
        "        else:\n",
        "            # If not odd, recursively call maxOdd on the rest of the list\n",
        "            return maxOdd(L[1:])\n",
        "\n",
        "# Test cases\n",
        "print(maxOdd([1, 2, 3, 4, 5]))\n",
        "print(maxOdd([2, 4, 6, 8, 10]))\n",
        "print(maxOdd([]))\n",
        "print(maxOdd([2, 4, 6, 7, 10]))\n"
      ]
    },
    {
      "cell_type": "markdown",
      "id": "f1cbe8f7",
      "metadata": {
        "id": "f1cbe8f7"
      },
      "source": [
        "# Hw-9- Part B-Question-6(Recursion-Only hasConsecutiveDigits(n))"
      ]
    },
    {
      "cell_type": "code",
      "execution_count": null,
      "id": "3b89ae09",
      "metadata": {
        "id": "3b89ae09",
        "outputId": "d6b0dd20-4287-4dd5-e870-3bc82a2f5502"
      },
      "outputs": [
        {
          "name": "stdout",
          "output_type": "stream",
          "text": [
            "Beginning hasConsecutiveDigits test cases...\n",
            "Passed!\n"
          ]
        }
      ],
      "source": [
        "# my solution to question 6 below\n",
        "def hasConsecutiveDigits(n):\n",
        "    n= abs(n)\n",
        "    n_str = str(n)\n",
        "    if len(n_str) < 2:\n",
        "        return False\n",
        "\n",
        "    else:\n",
        "        if n_str[0] == n_str[1]:\n",
        "            return True\n",
        "        else:\n",
        "            return hasConsecutiveDigits(int(n_str[1:]))\n",
        "\n",
        "print(\"Beginning hasConsecutiveDigits test cases...\")\n",
        "assert(hasConsecutiveDigits(1123) == True)\n",
        "assert(hasConsecutiveDigits(-1123) == True)\n",
        "assert(hasConsecutiveDigits(1234) == False)\n",
        "assert(hasConsecutiveDigits(0) == False)\n",
        "assert(hasConsecutiveDigits(1233) == True)\n",
        "print(\"Passed!\")\n",
        ""
      ]
    },
    {
      "cell_type": "markdown",
      "id": "25e3997d",
      "metadata": {
        "id": "25e3997d"
      },
      "source": [
        "# Hw-9- Part B-Question-7(Recursion-Only alternatingSum(L))"
      ]
    },
    {
      "cell_type": "code",
      "execution_count": null,
      "id": "00297b9e",
      "metadata": {
        "id": "00297b9e",
        "outputId": "56f2d85b-79ca-4983-9993-39844dfdff6b"
      },
      "outputs": [
        {
          "name": "stdout",
          "output_type": "stream",
          "text": [
            "3\n",
            "30\n",
            "0\n"
          ]
        }
      ],
      "source": [
        "# my solution to question 7 below\n",
        "\n",
        "def alternatingSum(L):\n",
        "    if L==[]:\n",
        "        return 0\n",
        "     # Base case: if the list has only one element, return that element\n",
        "    elif len(L) == 1:\n",
        "        return L[0]\n",
        "    else:\n",
        "        return L[0] - alternatingSum(L[1:])\n",
        "#Test cases\n",
        "print(alternatingSum([1, 2, 3, 4, 5]))\n",
        "print(alternatingSum([10, 20, 30, 40, 50]))\n",
        "print(alternatingSum([]))"
      ]
    },
    {
      "cell_type": "markdown",
      "id": "61452095",
      "metadata": {
        "id": "61452095"
      },
      "source": [
        "# Quiz 8 - Version A - Free Response(CreditCounter Class)"
      ]
    },
    {
      "cell_type": "code",
      "execution_count": null,
      "id": "47220532",
      "metadata": {
        "id": "47220532",
        "outputId": "cbac3cac-9b61-4b82-b505-fe765af202fc"
      },
      "outputs": [
        {
          "name": "stdout",
          "output_type": "stream",
          "text": [
            "Testing CreditCounter class...Passed!\n"
          ]
        }
      ],
      "source": [
        "# my solution to question below\n",
        "class CreditCounter(object):\n",
        "    def __init__(self, students):\n",
        "        self.students= students\n",
        "\n",
        "\n",
        "    def getCredits(self, student):\n",
        "        return self.students.get(student)\n",
        "\n",
        "    def getMostCredits(self):\n",
        "        max_credits = max(self.students.values())\n",
        "        most_credits_students = {student for student, credits in self.students.items() if credits == max_credits}\n",
        "        return most_credits_students\n",
        "\n",
        "\n",
        "    def addScore(self, student, score):\n",
        "        if student in self.students:\n",
        "            self.students[student] += score\n",
        "        else:\n",
        "            self.students[student] = score\n",
        "\n",
        "    def getAll(self):\n",
        "        return self.students.copy()\n",
        "\n",
        "    def getCopy(self):\n",
        "        return CreditCounter(self.getAll())\n",
        "\n",
        "def testCreditCounterClass():\n",
        "    print('Testing CreditCounter class...', end='')\n",
        "# Create a CreditCounter with these initial counts\n",
        "    sb1 = CreditCounter({'Alice':80, 'Bob':42})\n",
        "    assert(sb1.getCredits('Alice') == 80)\n",
        "    assert(sb1.getCredits('Bob') == 42)\n",
        "    assert(sb1.getCredits('Chee') == None)\n",
        "    assert(sb1.getMostCredits() == { 'Alice' })\n",
        "\n",
        "# Set of names w/ the most credits\n",
        "    sb1.addScore('Bob', 40) # Bob just earned 40 more credits!\n",
        "    assert(sb1.getCredits('Bob') == 82) # Now he has 82 credits\n",
        "    assert(sb1.getMostCredits() == { 'Bob' }) # Bob has 82, Alice has 80\n",
        "\n",
        "    sb1.addScore('Chee', 64) # Chee wasn't there before, but now has 64 credits\n",
        "    assert(sb1.getCredits('Chee') == 64)\n",
        "\n",
        "    sb1.addScore('Chee', 18)\n",
        "    assert(sb1.getCredits('Chee') == 82)\n",
        "    assert(sb1.getMostCredits() == { 'Bob', 'Chee' }) # Bob and Chee have 82\n",
        "    assert(sb1.getAll() == { 'Alice':80, 'Bob':82, 'Chee':82 })\n",
        "    sb2 = sb1.getCopy() # This is a copy of sb1, where changes to the copy\n",
        "# do not affect the original, and vice versa\n",
        "    assert(sb2.getAll() == { 'Alice':80, 'Bob':82, 'Chee':82 })\n",
        "    sb2.addScore('Alice', 10) # Alice now has 90 in sb2, but still has 80 in sb1\n",
        "    assert(sb2.getMostCredits() == { 'Alice' })\n",
        "    assert(sb1.getMostCredits() == { 'Bob', 'Chee' })\n",
        "    print('Passed!')\n",
        "\n",
        "# Run the test\n",
        "testCreditCounterClass()\n",
        ""
      ]
    },
    {
      "cell_type": "code",
      "execution_count": null,
      "id": "7a4d7a76",
      "metadata": {
        "id": "7a4d7a76"
      },
      "outputs": [],
      "source": []
    }
  ],
  "metadata": {
    "kernelspec": {
      "display_name": "Python 3 (ipykernel)",
      "language": "python",
      "name": "python3"
    },
    "language_info": {
      "codemirror_mode": {
        "name": "ipython",
        "version": 3
      },
      "file_extension": ".py",
      "mimetype": "text/x-python",
      "name": "python",
      "nbconvert_exporter": "python",
      "pygments_lexer": "ipython3",
      "version": "3.11.5"
    },
    "colab": {
      "provenance": [],
      "include_colab_link": true
    }
  },
  "nbformat": 4,
  "nbformat_minor": 5
}