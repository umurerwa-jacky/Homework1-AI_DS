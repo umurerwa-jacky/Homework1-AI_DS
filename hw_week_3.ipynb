{
  "cells": [
    {
      "cell_type": "markdown",
      "metadata": {
        "id": "view-in-github",
        "colab_type": "text"
      },
      "source": [
        "<a href=\"https://colab.research.google.com/github/umurerwa-jacky/Homework1-AI_DS/blob/main/hw_week_3.ipynb\" target=\"_parent\"><img src=\"https://colab.research.google.com/assets/colab-badge.svg\" alt=\"Open In Colab\"/></a>"
      ]
    },
    {
      "cell_type": "markdown",
      "metadata": {
        "id": "-yntW9TMyyop"
      },
      "source": [
        "# **Week 3 Homework 3: Library Management System**"
      ]
    },
    {
      "cell_type": "markdown",
      "metadata": {
        "id": "FGuiPmXiyyot"
      },
      "source": [
        "Mandatory:\n",
        "1. Read notes on OOP Part 3:\n",
        "https://www.kosbie.net/cmu/fall-21/15-112/notes/notes-oop-part3.html\n",
        "2. Work on the Library Management System\n",
        "Optional:\n",
        "There is also an optional section to the library management system."
      ]
    },
    {
      "cell_type": "markdown",
      "metadata": {
        "id": "ZgD7iTh5yyou"
      },
      "source": [
        "Objective\n",
        "To design and implement a simplified library management system using Python,\n",
        "demonstrating understanding of OOP concepts such as classes, objects, encapsulation,\n",
        "abstraction, and inheritance.\n",
        "Overview\n",
        "The system should allow for adding books to the library, checking out books, returning\n",
        "books, and tracking the availability of books. This project will be broken down into several\n",
        "components, each focusing on different OOP concepts."
      ]
    },
    {
      "cell_type": "markdown",
      "metadata": {
        "id": "im2wRN-Eyyov"
      },
      "source": [
        "Components\n",
        "1. Book Class\n",
        "Task: Create a Book class with attributes such as title, author, isbn, and availability.\n",
        "Features:\n",
        "The class should include a method to display book information.\n",
        "Implement encapsulation by making availability a private attribute with getter and\n",
        "setter methods to access and update its value.<br>\n",
        "2. Library Class\n",
        "Task: Design a Library class that manages a collection of books.\n",
        "Features:\n",
        "Store books in a list.\n",
        "Add methods to add a book, remove a book, and list all books.\n",
        "Include a method to search for a book by title or author.\n",
        "<br>\n",
        "3. Borrowing System\n",
        "Task: Enhance the Library class with a borrowing system.\n",
        "Features:\n",
        "Add methods to check out a book and return a book. Checking out a book should update the book’s\n",
        "availability.\n",
        "Include error checking to prevent checking out a book that is not available.<br>\n",
        "4. User Interaction\n",
        "Task: Implement a simple text-based user interface (UI) that allows interacting with the library system\n",
        "through the console.\n",
        "Features:\n",
        "Users should be able to add books, list all books, borrow a book, and return a book through input\n",
        "prompts.\n",
        "The UI should provide clear instructions and feedback based on user actions.\n",
        "<br>\n",
        "5. Inheritance - Extending the System\n",
        "Task: Introduce a DigitalBook class that inherits from the Book class.\n",
        "Features:\n",
        "Add specific attributes relevant to digital books, such as file_size or format (e.g., PDF,\n",
        "ePub).\n",
        "Override or extend methods as necessary to handle digital-specific features, such as a\n",
        "method to download the book, which could simulate downloading by printing a\n",
        "message to the console.<br>\n",
        "Deliverables\n",
        "You should upload to github your Python script(s) that demonstrate the functionality\n",
        "of your library management system, along with a short report describing:<br>\n",
        "● How implemented each component of the system.<br>\n",
        "● Challenges you faced and how you overcame them.<br>\n",
        "● Any additional features they added to their system.\n",
        "Evaluation Criteria<br>\n",
        "● Correct implementation of OOP concepts.<br>\n",
        "● Code readability and documentation.<br>\n",
        "● Functionality of the library management system as per the requirements.<br>\n",
        "● Creativity in extending the system with additional features or improvements.<br>\n",
        "Optional:<br>\n",
        "To demonstrate the concept of polymorphism in the library management system by\n",
        "allowing different types of items to be managed within the same system, each with\n",
        "their own specific behavior for common operations.<br>\n",
        "Task: Introduce Media Items<br>\n",
        "After introducing the DigitalBook class, which already sets the stage for inheritance,\n",
        "we'll broaden the scope to include various types of media, such as audiobooks and\n",
        "magazines, to showcase polymorphism.<br>\n",
        "Continued (optional)<br>\n",
        "Step 1: Create Base Class Media<br>\n",
        "Modify the existing system to include a new base class called Media. The Book class will\n",
        "now inherit from Media.<br>\n",
        "The Media class should define methods that are common across all media types but\n",
        "implemented differently in each subclass. These methods can include actions like\n",
        "display_info(), checkout(), and return_item().<br>\n",
        "Step 2: Adding Subclasses<br>\n",
        "Audiobook Class: Inherits from Book or directly from Media if you decide to differentiate it\n",
        "completely from printed books. It could have unique attributes like length (in hours) and\n",
        "narrator.<br>\n",
        "Magazine Class: Inherits from Media with unique attributes such as issue_number and\n",
        "publication_frequency.<br>\n",
        "Continued (optional)<br>\n",
        "Step 3: Implement Polymorphism<br>\n",
        "Ensure that each subclass implements the methods defined in the Media class in a way that's\n",
        "appropriate for its type. For example, display_info() in Magazine might include the issue number\n",
        "and publication frequency, while in Audiobook, it includes the narrator's name and length of the\n",
        "recording.<br>\n",
        "Demonstrating Polymorphism: Show how a list of mixed media types (books, audiobooks,\n",
        "magazines) can be iterated over, calling the display_info() method on each, and have the\n",
        "appropriate method called according to the object's class.<br>\n",
        "Continued (optional)<br>\n",
        "Enhanced User Interaction<br>\n",
        "Extend the UI to handle different types of media. Allow users to add, list, borrow,\n",
        "and return various media types, showcasing how polymorphism enables\n",
        "handling different objects through the same interface.<br>\n",
        "Reflecting on Polymorphism<br>\n",
        "Update the report to include a section on how polymorphism was implemented\n",
        "and utilized in the project. Discuss how it allows for more flexible and dynamic\n",
        "code.<br>\n",
        "Deliverable (optional)<br>\n",
        "Revised Python script(s) with the polymorphism implementation.<br>\n",
        "Updated report including a discussion on polymorphism.<br>\n",
        "Evaluation Criteria Addition<br>\n",
        "Successful demonstration of polymorphism in managing different types of media.<br>\n",
        "Ability to explain the benefits of using polymorphism in the system."
      ]
    },
    {
      "cell_type": "code",
      "execution_count": null,
      "metadata": {
        "id": "Dyllvquuyyox",
        "outputId": "5962ddf5-3643-460e-f73f-4a0b4fbfe3ee"
      },
      "outputs": [
        {
          "name": "stdout",
          "output_type": "stream",
          "text": [
            "\n",
            "1. Add Book\n",
            "2. List Books\n",
            "3. Search Book\n",
            "4. Borrow Book\n",
            "5. Return Book\n",
            "6. Download Digital Book\n",
            "7. Exit\n"
          ]
        },
        {
          "name": "stdin",
          "output_type": "stream",
          "text": [
            "Enter your choice:  6\n",
            "Enter digital book title to download:  ict\n"
          ]
        },
        {
          "name": "stdout",
          "output_type": "stream",
          "text": [
            "Digital book not found.\n",
            "\n",
            "1. Add Book\n",
            "2. List Books\n",
            "3. Search Book\n",
            "4. Borrow Book\n",
            "5. Return Book\n",
            "6. Download Digital Book\n",
            "7. Exit\n"
          ]
        },
        {
          "name": "stdin",
          "output_type": "stream",
          "text": [
            "Enter your choice:  1\n",
            "Enter book title:  ict\n",
            "Enter author name:  young\n",
            "Enter ISBN:  1234567890\n",
            "Enter format (e.g., PDF, ePub):  PDF\n",
            "Enter file size:  5\n"
          ]
        },
        {
          "name": "stdout",
          "output_type": "stream",
          "text": [
            "\n",
            "1. Add Book\n",
            "2. List Books\n",
            "3. Search Book\n",
            "4. Borrow Book\n",
            "5. Return Book\n",
            "6. Download Digital Book\n",
            "7. Exit\n"
          ]
        },
        {
          "name": "stdin",
          "output_type": "stream",
          "text": [
            "Enter your choice:  6\n",
            "Enter digital book title to download:  ICT\n"
          ]
        },
        {
          "name": "stdout",
          "output_type": "stream",
          "text": [
            "Digital book not found.\n",
            "\n",
            "1. Add Book\n",
            "2. List Books\n",
            "3. Search Book\n",
            "4. Borrow Book\n",
            "5. Return Book\n",
            "6. Download Digital Book\n",
            "7. Exit\n"
          ]
        },
        {
          "name": "stdin",
          "output_type": "stream",
          "text": [
            "Enter your choice:  6\n",
            "Enter digital book title to download:  ict\n"
          ]
        },
        {
          "name": "stdout",
          "output_type": "stream",
          "text": [
            "Digital book not found.\n",
            "\n",
            "1. Add Book\n",
            "2. List Books\n",
            "3. Search Book\n",
            "4. Borrow Book\n",
            "5. Return Book\n",
            "6. Download Digital Book\n",
            "7. Exit\n"
          ]
        }
      ],
      "source": [
        "# Define the Book class\n",
        "class Book:\n",
        "    # Initialize a Book object with title, author, and isbn attributes\n",
        "    def __init__(self, title, author, isbn):\n",
        "        self.title = title\n",
        "        self.author = author\n",
        "        self.isbn = isbn\n",
        "        self.__availability = True  # Initialize availability attribute to True (book is available)\n",
        "\n",
        "    # Method to display information about the book\n",
        "    def display_info(self):\n",
        "        print(f\"Title: {self.title}\\nAuthor: {self.author}\\nISBN: {self.isbn}\\nAvailability: {'Available' if self.__availability else 'Not Available'}\")\n",
        "\n",
        "    # Method to get availability status of the book\n",
        "    def get_availability(self):\n",
        "        return self.__availability\n",
        "\n",
        "    # Method to set availability status of the book\n",
        "    def set_availability(self, availability):\n",
        "        self.__availability = availability\n",
        "\n",
        "# Define the DigitalBook class which inherits from the Book class\n",
        "class DigitalBook(Book):\n",
        "    # Initialize a DigitalBook object with additional attributes file_size and format\n",
        "    def __init__(self, title, author, isbn, file_size, format):\n",
        "        super().__init__(title, author, isbn)  # Call the constructor of the superclass (Book)\n",
        "        self.file_size = file_size\n",
        "        self.format = format\n",
        "\n",
        "    # Override the display_info method to include digital-specific attributes\n",
        "    def display_info(self):\n",
        "        super().display_info()  # Call the display_info method of the superclass (Book)\n",
        "        print(f\"File Size: {self.file_size}\\nFormat: {self.format}\")\n",
        "\n",
        "    # Method specific to digital books to simulate downloading\n",
        "    def download(self):\n",
        "        print(f\"Downloading {self.title}...\")\n",
        "\n",
        "# Define the Library class\n",
        "class Library:\n",
        "    # Initialize the Library object with an empty list to store books\n",
        "    def __init__(self):\n",
        "        self.books = []\n",
        "\n",
        "    # Method to add a book to the library\n",
        "    def add_book(self, book):\n",
        "        self.books.append(book)\n",
        "\n",
        "    # Method to remove a book from the library\n",
        "    def remove_book(self, book):\n",
        "        self.books.remove(book)\n",
        "\n",
        "    # Method to list all books in the library\n",
        "    def list_books(self):\n",
        "        for book in self.books:\n",
        "            book.display_info()\n",
        "\n",
        "    # Method to search for a book by title or author\n",
        "    def search_book(self, query):\n",
        "        for book in self.books:\n",
        "            if isinstance(book, DigitalBook):  # Skip digital books for this method\n",
        "                continue\n",
        "            if query.lower() in book.title.lower() or query.lower() in book.author.lower():\n",
        "                book.display_info()\n",
        "\n",
        "    # Method to borrow a book from the library\n",
        "    def borrow_book(self, title):\n",
        "        for book in self.books:\n",
        "            if isinstance(book, DigitalBook):  # Skip digital books for borrowing\n",
        "                continue\n",
        "            if book.title.lower() == title.lower():\n",
        "                if book.get_availability():\n",
        "                    self.checkout_book(book)\n",
        "                else:\n",
        "                    print(\"Book is not available for borrowing.\")\n",
        "                return\n",
        "        print(\"Book not found.\")\n",
        "\n",
        "    # Method to handle the borrowing process\n",
        "    def checkout_book(self, book):\n",
        "        if book.get_availability():\n",
        "            book.set_availability(False)\n",
        "            print(f\"{book.title} has been checked out.\")\n",
        "        else:\n",
        "            print(f\"{book.title} is not available for checkout.\")\n",
        "\n",
        "    # Method to return a book to the library\n",
        "    def return_book(self, title):\n",
        "        for book in self.books:\n",
        "            if isinstance(book, DigitalBook):  # Skip digital books for returning\n",
        "                continue\n",
        "            if book.title.lower() == title.lower():\n",
        "                self.checkin_book(book)\n",
        "                return\n",
        "        print(\"Book not found.\")\n",
        "\n",
        "    # Method to handle the returning process\n",
        "    def checkin_book(self, book):\n",
        "        if not book.get_availability():\n",
        "            book.set_availability(True)\n",
        "            print(f\"{book.title} has been returned.\")\n",
        "        else:\n",
        "            print(f\"{book.title} is already available.\")\n",
        "\n",
        "    # Method to download a digital book from the library\n",
        "    def download_book(self, title):\n",
        "        for book in self.books:\n",
        "            if isinstance(book, DigitalBook) and book.title.lower() == title.lower():\n",
        "                book.download()\n",
        "                return\n",
        "        print(\"Digital book not found.\")\n",
        "\n",
        "# Initialize a Library object\n",
        "library = Library()\n",
        "\n",
        "# Define the user interface function\n",
        "def user_interface():\n",
        "    \"\"\"Simple text-based user interface.\"\"\"\n",
        "    while True:\n",
        "        # Display menu options\n",
        "        print(\"\\n1. Add Book\\n2. List Books\\n3. Search Book\\n4. Borrow Book\\n5. Return Book\\n6. Download Digital Book\\n7. Exit\")\n",
        "        choice = input(\"Enter your choice: \")  # Prompt user for choice\n",
        "\n",
        "        if choice == \"1\":\n",
        "            # Add a new book\n",
        "            title = input(\"Enter book title: \")\n",
        "            author = input(\"Enter author name: \")\n",
        "            isbn = input(\"Enter ISBN: \")\n",
        "            format_type = input(\"Enter format (e.g., PDF, ePub): \")\n",
        "            file_size = input(\"Enter file size: \")\n",
        "            new_book = Book(title, author, isbn)  # Create a new Book object\n",
        "            library.add_book(new_book)  # Add the book to the library\n",
        "\n",
        "        elif choice == \"2\":\n",
        "            # List all books\n",
        "            print(\"All Books:\")\n",
        "            library.list_books()\n",
        "\n",
        "        elif choice == \"3\":\n",
        "            # Search for a book\n",
        "            query = input(\"Enter book title or author: \")\n",
        "            print(\"Search Results:\")\n",
        "            library.search_book(query)\n",
        "\n",
        "        elif choice == \"4\":\n",
        "            # Borrow a book\n",
        "            title = input(\"Enter book title to borrow: \")\n",
        "            library.borrow_book(title)\n",
        "\n",
        "        elif choice == \"5\":\n",
        "            # Return a book\n",
        "            title = input(\"Enter book title to return: \")\n",
        "            library.return_book(title)\n",
        "\n",
        "        elif choice == \"6\":\n",
        "            # Download a digital book\n",
        "            title = input(\"Enter digital book title to download: \")\n",
        "            library.download_book(title)\n",
        "\n",
        "        elif choice == \"7\":\n",
        "            print(\"Exiting...\")\n",
        "            break\n",
        "\n",
        "        else:\n",
        "            print(\"Invalid choice. Please try again.\")\n",
        "\n",
        "# Start the user interface\n",
        "user_interface()\n"
      ]
    },
    {
      "cell_type": "code",
      "execution_count": null,
      "metadata": {
        "id": "EsuWcHsFyyo0"
      },
      "outputs": [],
      "source": [
        "# Define the Media class\n",
        "class Media:\n",
        "    def __init__(self, title, creator):\n",
        "        self.title = title\n",
        "        self.creator = creator\n",
        "        self.__availability = True\n",
        "\n",
        "    def display_info(self):\n",
        "        raise NotImplementedError(\"Subclass must implement abstract method\")\n",
        "\n",
        "    def checkout(self):\n",
        "        self.__availability = False\n",
        "\n",
        "    def return_item(self):\n",
        "        self.__availability = True\n",
        "\n",
        "# Modify the Book class to inherit from Media\n",
        "class Book(Media):\n",
        "    def __init__(self, title, author, isbn):\n",
        "        super().__init__(title, author)\n",
        "        self.isbn = isbn\n",
        "\n",
        "    def display_info(self):\n",
        "        print(f\"Title: {self.title}\\nAuthor: {self.creator}\\nISBN: {self.isbn}\\nAvailability: {'Available' if self._Media__availability else 'Not Available'}\")\n",
        "6"
      ]
    },
    {
      "cell_type": "code",
      "execution_count": null,
      "metadata": {
        "id": "4GYJAUCnyyo1"
      },
      "outputs": [],
      "source": [
        "# Define the Audiobook class inheriting from Book\n",
        "class Audiobook(Book):\n",
        "    def __init__(self, title, author, isbn, length_hours, narrator):\n",
        "        super().__init__(title, author, isbn)\n",
        "        self.length_hours = length_hours\n",
        "        self.narrator = narrator\n",
        "\n",
        "    def display_info(self):\n",
        "        print(f\"Title: {self.title}\\nAuthor: {self.creator}\\nISBN: {self.isbn}\\nLength: {self.length_hours} hours\\nNarrator: {self.narrator}\\nAvailability: {'Available' if self._Media__availability else 'Not Available'}\")\n",
        "\n",
        "# Define the Magazine class inheriting from Media\n",
        "class Magazine(Media):\n",
        "    def __init__(self, title, publisher, issue_number, publication_frequency):\n",
        "        super().__init__(title, publisher)\n",
        "        self.issue_number = issue_number\n",
        "        self.publication_frequency = publication_frequency\n",
        "\n",
        "    def display_info(self):\n",
        "        print(f\"Title: {self.title}\\nPublisher: {self.creator}\\nIssue Number: {self.issue_number}\\nPublication Frequency: {self.publication_frequency}\\nAvailability: {'Available' if self._Media__availability else 'Not Available'}\")\n"
      ]
    },
    {
      "cell_type": "code",
      "execution_count": null,
      "metadata": {
        "id": "cFeYLLHtyyo2",
        "outputId": "1b105a74-b1c5-48dd-8be4-7f4b3e5c8f27"
      },
      "outputs": [
        {
          "name": "stdout",
          "output_type": "stream",
          "text": [
            "Title: Python Programming\n",
            "Author: John Smith\n",
            "ISBN: 978-0-13-444432-1\n",
            "Availability: Available\n",
            "Title: The Great Gatsby\n",
            "Author: F. Scott Fitzgerald\n",
            "ISBN: 978-0-7432-7356-5\n",
            "Length: 8 hours\n",
            "Narrator: Jake Gyllenhaal\n",
            "Availability: Available\n",
            "Title: National Geographic\n",
            "Publisher: National Geographic Society\n",
            "Issue Number: 202\n",
            "Publication Frequency: Monthly\n",
            "Availability: Available\n"
          ]
        }
      ],
      "source": [
        "# Create a list of mixed media types\n",
        "media_items = [Book(\"Python Programming\", \"John Smith\", \"978-0-13-444432-1\"),\n",
        "               Audiobook(\"The Great Gatsby\", \"F. Scott Fitzgerald\", \"978-0-7432-7356-5\", 8, \"Jake Gyllenhaal\"),\n",
        "               Magazine(\"National Geographic\", \"National Geographic Society\", 202, \"Monthly\")]\n",
        "\n",
        "# Iterate over the list and call display_info() on each item\n",
        "for item in media_items:\n",
        "    item.display_info()\n"
      ]
    },
    {
      "cell_type": "code",
      "execution_count": null,
      "metadata": {
        "id": "dFRu0tLoyyo3"
      },
      "outputs": [],
      "source": []
    },
    {
      "cell_type": "code",
      "execution_count": null,
      "metadata": {
        "id": "YLLPV26Tyyo3"
      },
      "outputs": [],
      "source": []
    },
    {
      "cell_type": "code",
      "execution_count": null,
      "metadata": {
        "id": "UTAdTGt0yyo3"
      },
      "outputs": [],
      "source": []
    }
  ],
  "metadata": {
    "kernelspec": {
      "display_name": "Python 3 (ipykernel)",
      "language": "python",
      "name": "python3"
    },
    "language_info": {
      "codemirror_mode": {
        "name": "ipython",
        "version": 3
      },
      "file_extension": ".py",
      "mimetype": "text/x-python",
      "name": "python",
      "nbconvert_exporter": "python",
      "pygments_lexer": "ipython3",
      "version": "3.8.10"
    },
    "colab": {
      "provenance": [],
      "include_colab_link": true
    }
  },
  "nbformat": 4,
  "nbformat_minor": 0
}