{
  "cells": [
    {
      "cell_type": "code",
      "execution_count": null,
      "metadata": {
        "id": "YU9pGpjxojgY"
      },
      "outputs": [],
      "source": []
    },
    {
      "cell_type": "code",
      "execution_count": null,
      "metadata": {},
      "outputs": [],
      "source": []
    },
    {
      "cell_type": "markdown",
      "metadata": {
        "id": "mh9K26NsqWvK"
      },
      "source": [
        "**Week2 Home Work**"
      ]
    },
    {
      "cell_type": "markdown",
      "metadata": {
        "id": "Ixm-GjU3qdUu"
      },
      "source": [
        "**Quiz1-version A**\n",
        "\n",
        "isSmallFair(n)\n",
        "\n",
        "\n",
        "We will say that a value n is \"fair\" if it is an integer and it has the same number of even digits as odd digits\n",
        "(ignoring leading 0's). A \"small fair\" number is a fair number with exactly 4 digits.\n",
        "For example, 1083, 1081, and -1092 are each small fair numbers because each have two odds and two evens.\n",
        "With this in mind, and without using strings or loops, write the function isSmallFair(n) that takes a value n, that\n",
        "may or may not be an integer, and returns True if n is a small fair number, and False otherwise. Do not crash\n",
        "if n is not an integer! Again, do not use strings or loops here.\n",
        "def testIsSmallFair():\n",
        "assert(isSmallFair(1001) == True)\n",
        "assert(isSmallFair(-1083) == True)\n",
        "assert(isSmallFair(1112) == False)\n",
        "assert(isSmallFair(83) == False)\n",
        "assert(isSmallFair('axolotl') == False)"
      ]
    },
    {
      "cell_type": "code",
      "execution_count": null,
      "metadata": {
        "colab": {
          "base_uri": "https://localhost:8080/"
        },
        "id": "YD6PXiiaqy2m",
        "outputId": "0282ebee-3b13-4e20-c34d-f7cd96ba02cf"
      },
      "outputs": [
        {
          "name": "stdout",
          "output_type": "stream",
          "text": [
            "True\n",
            "True\n",
            "False\n",
            "False\n",
            "False\n"
          ]
        }
      ],
      "source": [
        "import math\n",
        "def isSmallFair(n):\n",
        "  if(type(n) == int and abs(n)//1000>0):\n",
        "    n = abs(n)\n",
        "    d1m = (n%10)%2\n",
        "    d2m = (math.floor(n/10)%10)%2\n",
        "    d3m = (math.floor(n/100)%10)%2\n",
        "    d4m = (math.floor(n/1000)%10)%2\n",
        "    if((d1m==0 and d2m==0 )and (d3m!=0 and d4m!=0) or  (d1m!=0 and d2m!=0 )and (d3m==0 and d4m==0) or\n",
        "       (d1m==0 and d3m==0 )and (d2m!=0 and d4m!=0) or  (d1m!=0 and d3m!=0 )and (d2m==0 and d4m==0) or\n",
        "       (d1m==0 and d4m==0 )and (d2m!=0 and d3m!=0) or (d1m!=0 and d4m!=0 )and (d2m==0 and d3m==0)):\n",
        "       return True\n",
        "  return False\n",
        "print(isSmallFair(1001))\n",
        "print(isSmallFair(-1081))\n",
        "print(isSmallFair(1112))\n",
        "print(isSmallFair(83))\n",
        "print(isSmallFair('fdfgf'))\n"
      ]
    },
    {
      "cell_type": "markdown",
      "metadata": {
        "id": "gsHcymEwxT7n"
      },
      "source": [
        "**Quiz1 vb**\n",
        "\n",
        "**isSmallWobble(n)**\n",
        "\n",
        "We will say that a value n is a \"wobble\" if it is an integer with more odd digits than even digits, but at least one\n",
        "of each. (Ignore leading 0's). A \"small wobble\" number is a wobble number with exactly 4 digits (thus it must\n",
        "have 1 even and 3 odd digits).\n",
        "For example, 2133, 1091, and -5792 are small wobble numbers because they have 1 even and 3 odd digits.\n",
        "With this in mind, and without using strings or loops, write the function isSmallWobble(n) that takes a value n,\n",
        "that may or may not be an integer, and returns True if n is a small wobble number, and False otherwise. Do\n",
        "not crash if n is not an integer! Again, do not use strings or loops here.\n",
        "def testIsSmallWobble():\n",
        "assert(isSmallWobble(1121) == True)\n",
        "assert(isSmallWobble(-1091) == True)\n",
        "assert(isSmallWobble(1681) == False)\n",
        "assert(isSmallWobble(83) == False)\n",
        "assert(isSmallWobble('axolotl') == False)"
      ]
    },
    {
      "cell_type": "code",
      "execution_count": null,
      "metadata": {
        "colab": {
          "base_uri": "https://localhost:8080/"
        },
        "id": "mxPUkLmLx9M4",
        "outputId": "e9d9ed15-c5b2-4ec5-88d1-e221ef0d6b83"
      },
      "outputs": [
        {
          "name": "stdout",
          "output_type": "stream",
          "text": [
            "True\n",
            "True\n",
            "False\n",
            "False\n",
            "False\n"
          ]
        }
      ],
      "source": [
        "def isSmallWobble(n):\n",
        "  if(type(n) == int and abs(n)//1000>0):\n",
        "    n = abs(n)\n",
        "    d1m = (n%10)%2\n",
        "    d2m = (math.floor(n/10)%10)%2\n",
        "    d3m = (math.floor(n/100)%10)%2\n",
        "    d4m = (math.floor(n/1000)%10)%2\n",
        "    if((d1m==1 and d2m==1 and d3m==1 and d4m==0) or\n",
        "       (d1m==1 and d2m==1 and d4m==1 and d3m==0) or\n",
        "       (d1m==1 and d3m==1 and d4m==1 and d2m==0) or\n",
        "       (d2m==1 and d3m==1 and d4m==1 and d1m==0) ):\n",
        "       return True\n",
        "  return False\n",
        "print(isSmallWobble(1121))\n",
        "print(isSmallWobble(-1091))\n",
        "print(isSmallWobble(1681))\n",
        "print(isSmallWobble(83))\n",
        "print(isSmallWobble('fdfgf'))"
      ]
    },
    {
      "cell_type": "markdown",
      "metadata": {
        "id": "AU760kNqzwFf"
      },
      "source": [
        "**Hw2 Part A**\n",
        "\n",
        "**Q1. digitCount(n)**\n",
        "\n",
        "Write the function digitCount(n) that takes a possibly-negative int and returns the number of digits in it. So, digitCount(12323) returns 5, digitCount(0) returns 1, and digitCount(-111) returns 3. One way you could do this would be to return len(str(abs(n))), but you cannot do that, since you may not use strings here! This can be solved with logarithms, but seeing as this is \"loops week\", you should instead simply repeatedly remove the ones digit until you cannot."
      ]
    },
    {
      "cell_type": "code",
      "execution_count": null,
      "metadata": {
        "colab": {
          "base_uri": "https://localhost:8080/"
        },
        "id": "kaMr6E1E0Byz",
        "outputId": "44e037fe-840b-45e1-f10a-8eed4f71c660"
      },
      "outputs": [
        {
          "name": "stdout",
          "output_type": "stream",
          "text": [
            "5\n",
            "1\n",
            "3\n"
          ]
        }
      ],
      "source": [
        "def digitCount(n):\n",
        "  n = abs(n)\n",
        "  if(n==0):\n",
        "    return 1\n",
        "  count = 0\n",
        "  while(n>0):\n",
        "    count +=1\n",
        "    n = math.floor(n/10)\n",
        "  return count\n",
        "print(digitCount(12323))\n",
        "print(digitCount(0))\n",
        "print(digitCount(-111))\n"
      ]
    },
    {
      "cell_type": "markdown",
      "metadata": {
        "id": "-5HugaC_1T8V"
      },
      "source": [
        "**Q2. gcd(m,n)**\n",
        "\n",
        "[Note: to receive any credit, you must solve this problem using Euclid's algorithm, and by no other means. In particular, do not just loop through all integers less than min(m,n) and find the common factors that way -- it is much too slow!]\n",
        "According to Euclid, the greatest common divisor, or gcd, can be found like so:\n",
        "   gcd(x,y) == gcd(y, x%y)\n",
        "We can use that to quickly find gcd's. For example:\n",
        "    gcd(270,250) == gcd(250, 20) # 270 % 250 == 20\n",
        "                 == gcd(20, 10) # 250 % 20 == 10\n",
        "                 == gcd(10, 0) # 20 % 10 == 0\n",
        "When we get to gcd(x,0), the answer is x. So gcd(270, 250) is 10. With this in mind, write the function gcd(x,y) that takes two positive integers x and y and returns their gcd using Euclid's gcd algorithm."
      ]
    },
    {
      "cell_type": "code",
      "execution_count": null,
      "metadata": {
        "colab": {
          "base_uri": "https://localhost:8080/"
        },
        "id": "VH_inEpo11gu",
        "outputId": "9d299b74-545b-4a01-b6e1-2f61f8b988b4"
      },
      "outputs": [
        {
          "name": "stdout",
          "output_type": "stream",
          "text": [
            "2\n"
          ]
        }
      ],
      "source": [
        "def gcd(m,n):\n",
        "  curmax = max(m,n)\n",
        "  curmin = min(m,n)\n",
        "  prevmin = max(m,n)\n",
        "  while (curmin>0):\n",
        "    prevmin  = curmin\n",
        "    curmin = curmax%curmin\n",
        "    curmax = prevmin\n",
        "  return curmax\n",
        "print(gcd(6,2))"
      ]
    },
    {
      "cell_type": "markdown",
      "metadata": {
        "id": "s-26RkUC3r-B"
      },
      "source": [
        "**Q3. hasConsecutiveDigits(n)**\n",
        "\n",
        "Write the function hasConsecutiveDigits(n) that takes a possibly- negative int value n and returns True if that number contains two consecutive digits that are the same, and False otherwise."
      ]
    },
    {
      "cell_type": "code",
      "execution_count": null,
      "metadata": {
        "colab": {
          "base_uri": "https://localhost:8080/"
        },
        "id": "QIu1VxVZ4HBS",
        "outputId": "28d91f39-bf69-4c8c-cef4-89703838de2d"
      },
      "outputs": [
        {
          "name": "stdout",
          "output_type": "stream",
          "text": [
            "False\n",
            "True\n",
            "True\n"
          ]
        }
      ],
      "source": [
        "def hasConsecutiveDigits(n):\n",
        "  h = abs(n)\n",
        "  d1 = h%10\n",
        "  h = math.floor(h/10)\n",
        "  while(h>0):\n",
        "    if(d1==(h%10)):\n",
        "      return True\n",
        "    d1 = h%10\n",
        "    h = math.floor(h/10)\n",
        "  return False\n",
        "print(hasConsecutiveDigits(12343))\n",
        "print(hasConsecutiveDigits(11234))\n",
        "print(hasConsecutiveDigits(1223))\n"
      ]
    },
    {
      "cell_type": "markdown",
      "metadata": {
        "id": "MoKzxrpx543H"
      },
      "source": [
        "**Q4 nthAdditivePrime(n)**\n",
        "\n",
        "Write the function nthAdditivePrime(n) that takes a non-negative int n and returns the nth Additive Prime, which is a prime number such that the sum of its digits is also prime. For example, 113 is prime and 1+1+3==5 and 5 is also prime, so 113 is an Additive Prime."
      ]
    },
    {
      "cell_type": "code",
      "execution_count": null,
      "metadata": {
        "colab": {
          "base_uri": "https://localhost:8080/"
        },
        "id": "2s4S-izV6N1_",
        "outputId": "439ff08e-08b2-49d3-f3dc-c1f24b7258be"
      },
      "outputs": [
        {
          "name": "stdout",
          "output_type": "stream",
          "text": [
            "3\n"
          ]
        }
      ],
      "source": [
        "def isPrime(n):\n",
        "  i=2\n",
        "  while(i<n):\n",
        "    if(n%i==0):\n",
        "      return False\n",
        "    i +=1\n",
        "  return True\n",
        "\n",
        "def isAdditivePrime(n):\n",
        "  if(isPrime(n)):\n",
        "    h = math.floor(n/10)\n",
        "    sum = n%10\n",
        "    while(h>0):\n",
        "      sum +=h%10\n",
        "      h = math.floor(h/10)\n",
        "    return isPrime(sum)\n",
        "  return False\n",
        "\n",
        "def nthAdditivePrime(n):\n",
        "  i=10\n",
        "  count =0\n",
        "  if isPrime(n):\n",
        "    while(i<=n):\n",
        "      if(isAdditivePrime(i)):\n",
        "        #single digit prime numbers are not counted as additive prime numbers by this program, to allow that, set i=0 instead of 10\n",
        "        # print(count+1,\"th additive prime is \",i)\n",
        "        count +=1\n",
        "      i +=1\n",
        "  return count\n",
        "print(nthAdditivePrime(29))"
      ]
    },
    {
      "cell_type": "markdown",
      "metadata": {
        "id": "2gU6xonu7BF8"
      },
      "source": [
        "**Q5. mostFrequentDigit(n)**\n",
        "\n",
        "Write the function mostFrequentDigit(n), that takes a possibly-negative integer n and returns the digit from 0 to 9 that occurs most frequently in it, with ties going to the smaller digit."
      ]
    },
    {
      "cell_type": "code",
      "execution_count": null,
      "metadata": {
        "colab": {
          "base_uri": "https://localhost:8080/"
        },
        "id": "1RL87u4_7J9W",
        "outputId": "9a11bb93-b32b-4e32-8706-6ff833cf08b4"
      },
      "outputs": [
        {
          "name": "stdout",
          "output_type": "stream",
          "text": [
            "2\n",
            "1\n"
          ]
        }
      ],
      "source": [
        "def mostFrequentDigit(n):\n",
        "  d = abs(n)%10\n",
        "  n= str(abs(n))\n",
        "  i = 0\n",
        "  maxf = 1\n",
        "  while(i<len(n)):\n",
        "    j = i\n",
        "    counter =0\n",
        "    while(j< len(n)):\n",
        "      if(n[i]==n[j]):\n",
        "        counter +=1\n",
        "      j +=1\n",
        "    if(counter>maxf):\n",
        "      maxf = counter\n",
        "      d = int(n[i])\n",
        "    i +=1\n",
        "  return d\n",
        "print(mostFrequentDigit(12322))\n",
        "print(mostFrequentDigit(11122))\n"
      ]
    },
    {
      "cell_type": "markdown",
      "metadata": {
        "id": "GBYaeix5-PXy"
      },
      "source": [
        "**Q6. isRotation(x,y)**\n",
        "\n",
        "Write the function isRotation(x, y) that takes two non-negative integers x and y, both guaranteed to not contain any 0's, and returns True if x is a rotation of the digits of y and False otherwise. For example, 3412 is a rotation of 1234. Any number is a rotation of itself.\n"
      ]
    },
    {
      "cell_type": "code",
      "execution_count": null,
      "metadata": {
        "colab": {
          "base_uri": "https://localhost:8080/"
        },
        "id": "XkSzCcaT-aLv",
        "outputId": "4ae52e21-ba4f-443c-84c2-c3012d1d568b"
      },
      "outputs": [
        {
          "name": "stdout",
          "output_type": "stream",
          "text": [
            "False\n"
          ]
        }
      ],
      "source": [
        "def isRotation(x,y):\n",
        "  # convert num to str and reverse it using[::-1]\n",
        "  x = str(x)[::-1]\n",
        "  y = str(y)\n",
        "  return x==y\n",
        "print(isRotation(122,121))"
      ]
    },
    {
      "cell_type": "markdown",
      "metadata": {
        "id": "VcZILzI__jty"
      },
      "source": [
        "**Integral(f,a,b,N)**\n",
        "\n",
        "Background: in calculus, we use the integral of a function f from x=a to x=b to compute the area under the curve between those points (or the negative area if the function is below the x-axis). One way to approximate this area (that is, to find it without doing any actual calculus!) is by replacing the smooth function with a collection of N trapezoids, as shown in this image (from here, with N=5"
      ]
    },
    {
      "cell_type": "code",
      "execution_count": null,
      "metadata": {
        "id": "e1dcw5E3_2nS"
      },
      "outputs": [],
      "source": [
        "def integral(f,a,b,N)"
      ]
    }
  ],
  "metadata": {
    "colab": {
      "provenance": []
    },
    "kernelspec": {
      "display_name": "Python 3",
      "name": "python3"
    },
    "language_info": {
      "name": "python"
    }
  },
  "nbformat": 4,
  "nbformat_minor": 0
}
