{
  "nbformat": 4,
  "nbformat_minor": 0,
  "metadata": {
    "colab": {
      "provenance": [],
      "include_colab_link": true
    },
    "kernelspec": {
      "name": "python3",
      "display_name": "Python 3"
    },
    "language_info": {
      "name": "python"
    }
  },
  "cells": [
    {
      "cell_type": "markdown",
      "metadata": {
        "id": "view-in-github",
        "colab_type": "text"
      },
      "source": [
        "<a href=\"https://colab.research.google.com/github/umurerwa-jacky/Homework1-AI_DS/blob/main/Jacky_hw_wk_1.ipynb\" target=\"_parent\"><img src=\"https://colab.research.google.com/assets/colab-badge.svg\" alt=\"Open In Colab\"/></a>"
      ]
    },
    {
      "cell_type": "markdown",
      "source": [
        "# **Week 1 Homework**\n",
        "Q1. Write the function distance(x1, y1, x2, y2) that takes four int or float values x1, y1, x2, y2 that represent the two points (x1, y1) and (x2, y2), and returns the distance between those points as a float."
      ],
      "metadata": {
        "id": "tjGRYSQsEjvT"
      }
    },
    {
      "cell_type": "code",
      "source": [
        "import math\n",
        "def distance(x1,y1,x2,y2):\n",
        "  # print(x1,y1,x2,y2)\n",
        "  difx = x2-x1\n",
        "  dify = y2-y1\n",
        "  ttdif = math.sqrt(difx**2 + dify**2)\n",
        "  # print(difx, dify,difx**2 + dify**2)\n",
        "  return ttdif\n",
        "x1 = int(input(\"Enter x1 \"))\n",
        "y1 = int(input(\"Enter y1 \"))\n",
        "x2 = int(input(\"Enter x2 \"))\n",
        "y2 = int(input(\"Enter y2 \"))\n",
        "print(\"The distance is \",distance(x1,y1,x2,y2))"
      ],
      "metadata": {
        "colab": {
          "base_uri": "https://localhost:8080/"
        },
        "id": "WFLiJyrWEzWJ",
        "outputId": "7d0a8313-0ebe-44d9-9ca7-5470fc9eada8"
      },
      "execution_count": null,
      "outputs": [
        {
          "output_type": "stream",
          "name": "stdout",
          "text": [
            "Enter x1 10\n",
            "Enter y1 14\n",
            "Enter x2 13\n",
            "Enter y2 18\n",
            "The distance is  5.0\n"
          ]
        }
      ]
    },
    {
      "cell_type": "markdown",
      "source": [
        "**Q2 circlesIntersect(x1, y1, r1, x2, y2, r2) [2 pts]**\n",
        "\n",
        "Write the function circlesIntersect(x1, y1, r1, x2, y2, r2) that takes 6 numbers (ints or floats) -- x1, y1, r1, x2, y2, r2 -- that describe the circle centered at (x1,y1) with radius r1, and the circle centered at (x2,y2) with radius r2, and returns True if the two circles intersect and False otherwise."
      ],
      "metadata": {
        "id": "fYTxB5VmEl62"
      }
    },
    {
      "cell_type": "code",
      "source": [
        "def circlesIntersect(x1,y1,r1,x2,y2,r2):\n",
        "  if(distance(x1,y1,x2,y2)>(r2+r1)):\n",
        "    return False\n",
        "  else:\n",
        "    return True\n",
        "\n",
        "print(circlesIntersect(1,3,1,5,4,2))"
      ],
      "metadata": {
        "colab": {
          "base_uri": "https://localhost:8080/"
        },
        "id": "Z-l_fWpOE2KG",
        "outputId": "a690d65d-402f-45d9-bd9b-0a73ba5beff3"
      },
      "execution_count": null,
      "outputs": [
        {
          "output_type": "stream",
          "name": "stdout",
          "text": [
            "False\n"
          ]
        }
      ]
    },
    {
      "cell_type": "markdown",
      "source": [
        "**Q3. getInRange(x, bound1, bound2) [2 pts]**  \n",
        "Write the function getInRange(x, bound1, bound2) which takes 3 int or float values -- x, bound1, and bound2, where bound1 is not necessarily less than bound2. If x is between the two bounds, just return it unmodified. Otherwise, if x is less than the lower bound, return the lower bound, or if x is greater than the upper bound, return the upper bound. For example:\n",
        "getInRange(1, 3, 5) returns 3 (the lower bound, since 1 lies to the left of the range [3,5])\n",
        "getInRange(4, 3, 5) returns 4 (the original value, since 4 is in the range [3,5])\n",
        "getInRange(6, 3, 5) returns 5 (the upper bound, since 6 lies to the right of the range [3,5])\n",
        "getInRange(6, 5, 3) also returns 5 (the upper bound, since 6 lies to the right of the range [3,5])"
      ],
      "metadata": {
        "id": "xqB18GC_Hcuk"
      }
    },
    {
      "cell_type": "code",
      "source": [
        "import math\n",
        "def getInRange(x,bound1,bound2):\n",
        "  if(x>= min(bound1,bound2) and x<= max(bound1,bound2)):\n",
        "    return x\n",
        "  elif (x< min(bound1,bound2)):\n",
        "    return min(bound1,bound2)\n",
        "  else:\n",
        "    return max(bound1,bound2)\n",
        "print(\"getInRange(1,3,5):\",getInRange(1,3,5))\n",
        "print(\"getInRange(4,3,5):\",getInRange(4,3,5))\n",
        "print(\"getInRange(6,3,5):\",getInRange(6,3,5))"
      ],
      "metadata": {
        "colab": {
          "base_uri": "https://localhost:8080/"
        },
        "id": "p8exBDQnHpLs",
        "outputId": "22161d4b-6cae-4097-a2c6-7dc388c8e43e"
      },
      "execution_count": null,
      "outputs": [
        {
          "output_type": "stream",
          "name": "stdout",
          "text": [
            "getInRange(1,3,5): 3\n",
            "getInRange(4,3,5): 4\n",
            "getInRange(6,3,5): 5\n"
          ]
        }
      ]
    },
    {
      "cell_type": "markdown",
      "source": [
        "**Q4. eggCartons(eggs)**[2 pts]  \n",
        "Write the function eggCartons(eggs) that takes a non-negative integer number of eggs, and returns the smallest integer number of cartons required to hold that many eggs, where a carton may hold up to 12 eggs.\n"
      ],
      "metadata": {
        "id": "AjndM_obbm_m"
      }
    },
    {
      "cell_type": "code",
      "source": [
        "import math\n",
        "def eggCartons(eggs):\n",
        "  return eggs//12 if (eggs%12 == 0) else eggs//12 +1\n",
        "print(\"eggCartons(15):\",eggCartons(13))"
      ],
      "metadata": {
        "colab": {
          "base_uri": "https://localhost:8080/"
        },
        "id": "9q_ug6cucgNc",
        "outputId": "499e18ff-2539-4c93-c961-d59ee1b2f64a"
      },
      "execution_count": null,
      "outputs": [
        {
          "output_type": "stream",
          "name": "stdout",
          "text": [
            "eggCartons(15): 2\n"
          ]
        }
      ]
    },
    {
      "cell_type": "markdown",
      "source": [
        "**Q5. pascalsTriangleValue(row, col)** [2 pts]  \n",
        "Write the function pascalsTriangleValue(row, col) that takes int values row and col, and returns the value in the given row and column of Pascal's Triangle where the triangle starts at row 0, and each row starts at column 0. If either row or col are not legal values, return None, instead of crashing. Hint: math.factorial may be helpful! Also: it may help to read MathIsFun's Pascal's Triangle page, which includes a general discussion, some nice applications, and further down the page a helpful formula.\n"
      ],
      "metadata": {
        "id": "34k3nA3phUGB"
      }
    },
    {
      "cell_type": "code",
      "source": [
        "import math\n",
        "def pascalsTriangleValue(row,col):\n",
        "  if(col>row or col<0 or row<0):\n",
        "    return None\n",
        "\n",
        "  return int( math.factorial(row)/(math.factorial(col)* math.factorial(row-col)))\n",
        "print(\"combination of 5,3 i.e C(5,3) is \", pascalsTriangleValue(5,3))\n"
      ],
      "metadata": {
        "id": "GMTbhvdnhZcN",
        "colab": {
          "base_uri": "https://localhost:8080/"
        },
        "outputId": "dad3b297-575a-48d9-e051-647bad16d848"
      },
      "execution_count": null,
      "outputs": [
        {
          "output_type": "stream",
          "name": "stdout",
          "text": [
            "combination of 5,3 i.e C(5,3) is  10\n"
          ]
        }
      ]
    },
    {
      "cell_type": "markdown",
      "source": [
        "**6.getKthDigit(n, k)** [5 pts]\n",
        "\n",
        "Write the function getKthDigit(n, k) that takes a possibly-negative int n and a non-negative int k, and returns the kth digit of n, starting from 0, counting from the right."
      ],
      "metadata": {
        "id": "t0tTQM9Stfh8"
      }
    },
    {
      "cell_type": "code",
      "source": [
        "def getKthDigit(n,k):\n",
        "  n = n if(n>0) else n*-1\n",
        "  if(k<0 or n/10**k <1):\n",
        "    return 0\n",
        "  return math.floor(n/10**(k))%10\n",
        "print(getKthDigit(789, 0))\n",
        "print(getKthDigit(789, 1))\n",
        "print(getKthDigit(789, 2))\n",
        "print(getKthDigit(789, 3))\n",
        "print(getKthDigit(-789, 0))"
      ],
      "metadata": {
        "colab": {
          "base_uri": "https://localhost:8080/"
        },
        "id": "WVriCuovtkuB",
        "outputId": "02779a53-9997-40f3-e7e6-ec66f04b5bf3"
      },
      "execution_count": null,
      "outputs": [
        {
          "output_type": "stream",
          "name": "stdout",
          "text": [
            "9\n",
            "8\n",
            "7\n",
            "0\n",
            "9\n"
          ]
        }
      ]
    },
    {
      "cell_type": "markdown",
      "source": [
        "**7.setKthDigit(n, k, d)** [5 pts]\n",
        "\n",
        "Write the function setKthDigit(n, k, d) that takes three integers -- n, k, and d -- where n is a possibly-negative int, k is a non-negative int, and d is a non-negative single digit (between 0 and 9 inclusive). This function returns the number n with the kth digit replaced with d. Counting starts at 0 and goes right-to-left, so the 0th digit is the rightmost digit."
      ],
      "metadata": {
        "id": "7ob-kyAnwBqp"
      }
    },
    {
      "cell_type": "code",
      "source": [
        "def setKthDigit(n,k,d):\n",
        "  if(k<0 or d//10>=1):\n",
        "    return 0\n",
        "  d = str(d)\n",
        "  count = 0\n",
        "  num = n if(n>0) else n*-1\n",
        "  numArray = [x for x in str(num)]\n",
        "  if(k == len(numArray)):\n",
        "    numArray.insert(0,d)\n",
        "  else:\n",
        "    for i in reversed(range(len(numArray))):\n",
        "      # print(i,\", \")\n",
        "      if(count == k):\n",
        "        numArray[i] = d\n",
        "      count +=1\n",
        "  # print(numArray)\n",
        "  newn = int(\"\".join(numArray))\n",
        "  return newn if(n>0) else newn*-1\n",
        "# setKthDigit(789,3,1)\n",
        "print(setKthDigit(789, 0,2))\n",
        "print(setKthDigit(789, 1,1))\n",
        "print(setKthDigit(789, 2,1))\n",
        "print(setKthDigit(789, 3,1))\n",
        "print(setKthDigit(-789, 0,1))"
      ],
      "metadata": {
        "colab": {
          "base_uri": "https://localhost:8080/"
        },
        "id": "sb4mQkYtwJo2",
        "outputId": "5c1b72f9-65b8-40db-c730-ffc19af32762"
      },
      "execution_count": null,
      "outputs": [
        {
          "output_type": "stream",
          "name": "stdout",
          "text": [
            "782\n",
            "719\n",
            "189\n",
            "1789\n",
            "-781\n"
          ]
        }
      ]
    },
    {
      "cell_type": "markdown",
      "source": [
        "**9.nearestOdd(n)**[10 pts]\n",
        "\n",
        "Write the function nearestOdd(n) that takes an int or float n, and returns as an int value the nearest odd number to n. In the case of a tie, return the smaller odd value. Note that the result must be an int, so nearestOdd(13.0) is the int 13, and not the float 13.0.\n",
        "\n",
        "Hint: Remember that the built-in round function works in surprising ways. Instead of round(n), you should use roundHalfUp(n) from this week's notes. That said, there are good ways to solve this problem without using rounding at all, if you prefer."
      ],
      "metadata": {
        "id": "mkx-HXUm5cdQ"
      }
    },
    {
      "cell_type": "code",
      "source": [
        "import math\n",
        "def nearestOdd(n):\n",
        "  return int(n) if(int(n)%2 == 1) else math.floor(n)+1\n",
        "print(\"nearestOdd(2.3):\",nearestOdd(2.3))"
      ],
      "metadata": {
        "colab": {
          "base_uri": "https://localhost:8080/"
        },
        "id": "DvmdOeFy5sRg",
        "outputId": "9398cafe-fceb-4831-aac8-8c6bd9906e48"
      },
      "execution_count": null,
      "outputs": [
        {
          "output_type": "stream",
          "name": "stdout",
          "text": [
            "nearestOdd(2.3): 3\n"
          ]
        }
      ]
    },
    {
      "cell_type": "markdown",
      "source": [
        "**10. numberOfPoolBalls(rows)** [10 pts]\n",
        "\n",
        "Pool balls are arranged in rows where the first row contains 1 pool ball and each row contains 1 more pool ball than the previous row. Thus, for example, 3 rows contain 6 total pool balls (1+2+3). With this in mind, write the function numberOfPoolBalls(rows) that takes a non-negative int value, the number of rows, and returns another int value, the number of pool balls in that number of full rows. For example, numberOfPoolBalls(3) returns 6. We will not limit our analysis to a \"rack\" of 15 balls. Rather, our pool table can contain an unlimited number of rows. For this problem and the next, you should research Triangular Numbers."
      ],
      "metadata": {
        "id": "y-Js-BUL7hn7"
      }
    },
    {
      "cell_type": "code",
      "source": [
        "def numberOfPoolBalls(rows):\n",
        "  num = 0\n",
        "  for i in range(rows+1):\n",
        "    num += i\n",
        "  return num\n",
        "print(\"numberOfPoolBalls(3):\",numberOfPoolBalls(3))"
      ],
      "metadata": {
        "colab": {
          "base_uri": "https://localhost:8080/"
        },
        "id": "-SJEjk9o7tRY",
        "outputId": "d0ee9010-7e06-4b38-8621-6c2ec9c545f3"
      },
      "execution_count": null,
      "outputs": [
        {
          "output_type": "stream",
          "name": "stdout",
          "text": [
            "numberOfPoolBalls(3): 6\n"
          ]
        }
      ]
    },
    {
      "cell_type": "markdown",
      "source": [
        "**11.numberOfPoolBallRows(balls)** [25 pts]\n",
        "\n",
        "This problem is the inverse of the previous problem. Write the function numberOfPoolBallRows(balls) that takes a non-negative int number of pool balls, and returns the smallest int number of rows required for the given number of pool balls. Thus, numberOfPoolBallRows(6) returns 3. Note that if any balls must be in a row, then you count that row, and so numberOfPoolBallRows(7) returns 4 (since the 4th row must have a single ball in it).\n"
      ],
      "metadata": {
        "id": "AMuAAXpW9cal"
      }
    },
    {
      "cell_type": "code",
      "source": [
        "def numberOfPoolBallRows(balls):\n",
        "  num = balls\n",
        "  count = 0\n",
        "  toRemove =1\n",
        "  while balls >=toRemove:\n",
        "    balls = balls - toRemove\n",
        "    count +=1\n",
        "    toRemove +=1\n",
        "  return count\n",
        "print(\"numberOfPoolBallRows(6):\",numberOfPoolBallRows(6))\n",
        "\n"
      ],
      "metadata": {
        "colab": {
          "base_uri": "https://localhost:8080/"
        },
        "id": "oQWkktKu9hbq",
        "outputId": "7f0ab40c-02a8-4cec-eadf-9ddd82c1274e"
      },
      "execution_count": null,
      "outputs": [
        {
          "output_type": "stream",
          "name": "stdout",
          "text": [
            "numberOfPoolBallRows(6) 3\n"
          ]
        }
      ]
    },
    {
      "cell_type": "markdown",
      "source": [
        "**12.colorBlender(rgb1, rgb2, midpoints, n)** [25 pts]\n",
        "\n",
        "This problem implements a color blender, inspired by this tool. In particular, we will use it with integer RGB values (it also does hex values and RGB% values, but we will not use those modes). Note that RGB values contain 3 integers, each between 0 and 255, representing the amount of red, green, and blue respectively in the given color, where 255 is \"entirely on\" and 0 is \"entirely off\"."
      ],
      "metadata": {
        "id": "5WipiDAf_eNA"
      }
    },
    {
      "cell_type": "code",
      "source": [
        "import numpy,math\n",
        "def colorBlender(rgb1, rgb2,n):\n",
        "  Rdif = numpy.absolute(rgb2[0]-rgb1[0])\n",
        "  Gdif = numpy.absolute(rgb2[1]-rgb1[1])\n",
        "  Bdif = numpy.absolute(rgb2[2]-rgb1[2])\n",
        "  pallete =[rgb1]\n",
        "  for i in range(n):\n",
        "    # round_half_up() is not recognized here but it shoul be used instead of round() to achieve the best results\n",
        "    newC = (min(rgb2[0],rgb1[0])+round((Rdif/(n+1))*(i+1)) if (rgb2[0]>rgb1[0]) else max(rgb2[0],rgb1[0])-round((Rdif/(n+1))*(i+1)),\n",
        "            min(rgb2[1],rgb1[1])+ round((Gdif/(n+1))*(i+1))if (rgb2[1]>rgb1[1]) else max(rgb2[1],rgb1[1])-round((Rdif/(n+1))*(i+1)),\n",
        "            min(rgb2[2],rgb1[2])+round((Bdif/(n+1))*(i+1))if (rgb2[2]>rgb1[2]) else max(rgb2[2],rgb1[2])-round((Rdif/(n+1))*(i+1)))\n",
        "    pallete.append(newC)\n",
        "  pallete.append(rgb2)\n",
        "  return pallete\n",
        "print(\" We are combining crimson (rgb(220, 20, 60)) and mint (rgb(189, 252, 201)), using 3 midpoints=> colorBlender((220,  20,  60),(189, 252, 201),3):\")\n",
        "print(colorBlender((220,  20,  60),(189, 252, 201),3))\n"
      ],
      "metadata": {
        "colab": {
          "base_uri": "https://localhost:8080/"
        },
        "id": "yM0GPQJq_m7U",
        "outputId": "95dfabbf-6fd7-4ecf-ef38-c5ae8352c0c3"
      },
      "execution_count": null,
      "outputs": [
        {
          "output_type": "stream",
          "name": "stdout",
          "text": [
            " We are combining crimson (rgb(220, 20, 60)) and mint (rgb(189, 252, 201)), using 3 midpoints=> colorBlender((220,  20,  60),(189, 252, 201),3):\n",
            "[(220, 20, 60), (212, 78, 95), (204, 136, 130), (197, 194, 166), (189, 252, 201)]\n"
          ]
        }
      ]
    }
  ]
}