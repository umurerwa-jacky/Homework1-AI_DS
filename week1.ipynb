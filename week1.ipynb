{
  "nbformat": 4,
  "nbformat_minor": 0,
  "metadata": {
    "colab": {
      "provenance": [],
      "authorship_tag": "ABX9TyMLzwnqS0w7XnlztiG6vC2Z",
      "include_colab_link": true
    },
    "kernelspec": {
      "name": "python3",
      "display_name": "Python 3"
    },
    "language_info": {
      "name": "python"
    }
  },
  "cells": [
    {
      "cell_type": "markdown",
      "metadata": {
        "id": "view-in-github",
        "colab_type": "text"
      },
      "source": [
        "<a href=\"https://colab.research.google.com/github/umurerwa-jacky/Homework1-AI_DS/blob/main/week1.ipynb\" target=\"_parent\"><img src=\"https://colab.research.google.com/assets/colab-badge.svg\" alt=\"Open In Colab\"/></a>"
      ]
    },
    {
      "cell_type": "markdown",
      "source": [
        "AI & DS assign W1"
      ],
      "metadata": {
        "id": "RzJpfs0bnzgL"
      }
    },
    {
      "cell_type": "markdown",
      "source": [
        "Q1. **distance(x1, y1, x2, y2)** [2 pts]  \n",
        "Write the function distance(x1, y1, x2, y2) that takes four int or float values x1, y1, x2, y2 that represent the two points (x1, y1) and (x2, y2), and returns the distance between those points as a float."
      ],
      "metadata": {
        "id": "a-omdXPqpAHB"
      }
    },
    {
      "cell_type": "markdown",
      "source": [],
      "metadata": {
        "id": "GuY58M3brHEY"
      }
    },
    {
      "cell_type": "code",
      "source": [
        "import math\n",
        "def distance(x1,y1,x2,y2):\n",
        "  difx = x2-x1\n",
        "  dify =y2-y1\n",
        "  totaldist = math.sqrt(difx**2 + dify**2)\n",
        "  return totaldist\n",
        "print(distance(8,4,5,2))\n"
      ],
      "metadata": {
        "id": "oF64NkzhoC5F"
      },
      "execution_count": null,
      "outputs": []
    },
    {
      "cell_type": "markdown",
      "source": [
        " Q2 **circlesIntersect(x1, y1, r1, x2, y2, r2)** [2 pts]  \n",
        "Write the function circlesIntersect(x1, y1, r1, x2, y2, r2) that takes 6 numbers (ints or floats) -- x1, y1, r1, x2, y2, r2 -- that describe the circle centered at (x1,y1) with radius r1, and the circle centered at (x2,y2) with radius r2, and returns True if the two circles intersect and False otherwise."
      ],
      "metadata": {
        "id": "YVGqbKeVrMW-"
      }
    }
  ]
}